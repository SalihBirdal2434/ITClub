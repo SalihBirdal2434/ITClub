{
 "cells": [
  {
   "cell_type": "code",
   "execution_count": null,
   "metadata": {},
   "outputs": [
    {
     "name": "stderr",
     "output_type": "stream",
     "text": [
      "C:\\Users\\salih\\AppData\\Local\\Packages\\PythonSoftwareFoundation.Python.3.11_qbz5n2kfra8p0\\LocalCache\\local-packages\\Python311\\site-packages\\fuzzywuzzy\\fuzz.py:11: UserWarning: Using slow pure-python SequenceMatcher. Install python-Levenshtein to remove this warning\n",
      "  warnings.warn('Using slow pure-python SequenceMatcher. Install python-Levenshtein to remove this warning')\n"
     ]
    }
   ],
   "source": [
    "import pandas as pd\n",
    "from fuzzywuzzy import fuzz\n",
    "from fuzzywuzzy import process\n",
    "from datetime import datetime\n",
    "import plotly.express as px\n",
    "\n"
   ]
  },
  {
   "cell_type": "code",
   "execution_count": 2,
   "metadata": {},
   "outputs": [],
   "source": [
    "data=pd.read_excel(\"genelüyeformu.xlsx\")"
   ]
  },
  {
   "cell_type": "code",
   "execution_count": 3,
   "metadata": {},
   "outputs": [
    {
     "data": {
      "text/html": [
       "<div>\n",
       "<style scoped>\n",
       "    .dataframe tbody tr th:only-of-type {\n",
       "        vertical-align: middle;\n",
       "    }\n",
       "\n",
       "    .dataframe tbody tr th {\n",
       "        vertical-align: top;\n",
       "    }\n",
       "\n",
       "    .dataframe thead th {\n",
       "        text-align: right;\n",
       "    }\n",
       "</style>\n",
       "<table border=\"1\" class=\"dataframe\">\n",
       "  <thead>\n",
       "    <tr style=\"text-align: right;\">\n",
       "      <th></th>\n",
       "      <th>Id</th>\n",
       "      <th>Tamamlama saati</th>\n",
       "      <th>Bölümün:</th>\n",
       "      <th>Kaçıncı Sınıfsın:</th>\n",
       "      <th>Beklentilerini, isteklerini ve aklındaki her şeyi bizimle paylaşabilirsin. Fikirlerini duymak için sabırsızlanıyoruz..\\n</th>\n",
       "      <th>KVKK Metnini Onaylıyor musun?\\n</th>\n",
       "    </tr>\n",
       "  </thead>\n",
       "  <tbody>\n",
       "    <tr>\n",
       "      <th>0</th>\n",
       "      <td>1.0</td>\n",
       "      <td>2024-08-30 23:17:36</td>\n",
       "      <td>Bilişim Sistemleri Mühendisliği</td>\n",
       "      <td>3</td>\n",
       "      <td>umarim guzel basarili bi donem olur..</td>\n",
       "      <td>Evet, onaylıyorum.</td>\n",
       "    </tr>\n",
       "    <tr>\n",
       "      <th>1</th>\n",
       "      <td>2.0</td>\n",
       "      <td>2024-08-30 23:45:46</td>\n",
       "      <td>Bilişim Sistemleri Mühendisliği</td>\n",
       "      <td>3</td>\n",
       "      <td>NaN</td>\n",
       "      <td>Evet, onaylıyorum.</td>\n",
       "    </tr>\n",
       "    <tr>\n",
       "      <th>2</th>\n",
       "      <td>3.0</td>\n",
       "      <td>2024-08-31 14:01:55</td>\n",
       "      <td>Yönetim Bilişim Sistemleri</td>\n",
       "      <td>2</td>\n",
       "      <td>NaN</td>\n",
       "      <td>Evet, onaylıyorum.</td>\n",
       "    </tr>\n",
       "    <tr>\n",
       "      <th>3</th>\n",
       "      <td>4.0</td>\n",
       "      <td>2024-08-31 14:02:53</td>\n",
       "      <td>Bilgisayar programcılığı</td>\n",
       "      <td>1</td>\n",
       "      <td>NaN</td>\n",
       "      <td>Evet, onaylıyorum.</td>\n",
       "    </tr>\n",
       "    <tr>\n",
       "      <th>4</th>\n",
       "      <td>5.0</td>\n",
       "      <td>2024-08-31 14:03:28</td>\n",
       "      <td>Denizcilik işletmeleri yönetimi</td>\n",
       "      <td>Hazırlık</td>\n",
       "      <td>NaN</td>\n",
       "      <td>Evet, onaylıyorum.</td>\n",
       "    </tr>\n",
       "  </tbody>\n",
       "</table>\n",
       "</div>"
      ],
      "text/plain": [
       "    Id     Tamamlama saati                          Bölümün:  \\\n",
       "0  1.0 2024-08-30 23:17:36  Bilişim Sistemleri Mühendisliği    \n",
       "1  2.0 2024-08-30 23:45:46   Bilişim Sistemleri Mühendisliği   \n",
       "2  3.0 2024-08-31 14:01:55       Yönetim Bilişim Sistemleri    \n",
       "3  4.0 2024-08-31 14:02:53         Bilgisayar programcılığı    \n",
       "4  5.0 2024-08-31 14:03:28   Denizcilik işletmeleri yönetimi   \n",
       "\n",
       "  Kaçıncı Sınıfsın:  \\\n",
       "0                 3   \n",
       "1                 3   \n",
       "2                 2   \n",
       "3                 1   \n",
       "4          Hazırlık   \n",
       "\n",
       "  Beklentilerini, isteklerini ve aklındaki her şeyi bizimle paylaşabilirsin. Fikirlerini duymak için sabırsızlanıyoruz..\\n  \\\n",
       "0              umarim guzel basarili bi donem olur..                                                                         \n",
       "1                                                NaN                                                                         \n",
       "2                                                NaN                                                                         \n",
       "3                                                NaN                                                                         \n",
       "4                                                NaN                                                                         \n",
       "\n",
       "  KVKK Metnini Onaylıyor musun?\\n  \n",
       "0              Evet, onaylıyorum.  \n",
       "1              Evet, onaylıyorum.  \n",
       "2              Evet, onaylıyorum.  \n",
       "3              Evet, onaylıyorum.  \n",
       "4              Evet, onaylıyorum.  "
      ]
     },
     "execution_count": 3,
     "metadata": {},
     "output_type": "execute_result"
    }
   ],
   "source": [
    "data.head()"
   ]
  },
  {
   "cell_type": "code",
   "execution_count": 4,
   "metadata": {},
   "outputs": [],
   "source": [
    "data=data.drop([\"Id\",\"KVKK Metnini Onaylıyor musun?\\n\"],axis=1)\n",
    "data[\"Bölümün:\"].fillna(\"\", inplace=True)  # NaN değerleri boş stringe çevirir\n",
    "data[\"Bölümün:\"] = data[\"Bölümün:\"].astype(str)  # Tüm sütunu string tipe dönüştürür"
   ]
  },
  {
   "cell_type": "code",
   "execution_count": 5,
   "metadata": {},
   "outputs": [
    {
     "data": {
      "text/plain": [
       "139"
      ]
     },
     "execution_count": 5,
     "metadata": {},
     "output_type": "execute_result"
    }
   ],
   "source": [
    "data[\"Bölümün:\"].nunique()"
   ]
  },
  {
   "cell_type": "code",
   "execution_count": 6,
   "metadata": {},
   "outputs": [],
   "source": [
    "data[\"Bölümün:\"]=data[\"Bölümün:\"].str.strip()\n",
    "data[\"Bölümün:\"]=data[\"Bölümün:\"].str.lower()"
   ]
  },
  {
   "cell_type": "code",
   "execution_count": 7,
   "metadata": {},
   "outputs": [
    {
     "data": {
      "text/plain": [
       "(83,\n",
       " array(['bilişim sistemleri mühendisliği', 'yönetim bilişim sistemleri',\n",
       "        'bilgisayar programcılığı', 'denizcilik işletmeleri yönetimi',\n",
       "        'endüstri mühendisliği', 'duim', 'yonetim bilisim sistemleri',\n",
       "        'bilgisayar programcılığu',\n",
       "        'gemi inşaatı ve gemi makineleri mühendisliği', 'gemi i̇nşaatı',\n",
       "        'bilgisiyar programcılığı', 'bsm', 'ekonomi ve finans',\n",
       "        'deniz ulaştırma işletme mühendisliği',\n",
       "        'bilişim sistemleri mühendisliği.', 'bilgisayar mühendisliği',\n",
       "        'yönetim bilişimleri', 'bilişim sistemleri müh.',\n",
       "        'elektrik elektronik mühendisliği', 'ybs', 'mekatronik',\n",
       "        'yöneyim bilişim sistemleri', 'makine mühendisliği', 'bsm3',\n",
       "        'gemi i̇nşaatı ve gemi makineleri mühendisliği',\n",
       "        'yönetim bilşim sistemleri', 'bi̇lgisayar programcılığı',\n",
       "        'gemi i̇nşaat', 'lojistik yönetimi',\n",
       "        'elektrik ve elektronik mühendisliği', 'endüstri',\n",
       "        'gemi makineleri i̇şletme mühendisliği',\n",
       "        'gemi makine işletme mühendisliği', 'lojistik',\n",
       "        'yönetim bilişim sistemlerş', 'bilişim sistemleri mührndisliği',\n",
       "        'bilgşsayar mühendiliği', 'gemi inşaa gemi makineleri müh',\n",
       "        'denizcilik i̇şletmeleri yönetimi', 'yat ve marina i̇şletmeleri',\n",
       "        'bilgisayar müh', 'gemi inşaatı', 'endüstri mühendisi',\n",
       "        'gemi makine inşaat mühendisi',\n",
       "        'gemi inşaa ve gemi makineleri mühendisliği',\n",
       "        'elektrik elektronik', 'uluslararası ticaret ve işletmecilik',\n",
       "        'gemi i̇nşaat ve gemi makineleri mühendisliği', 'gigmm',\n",
       "        'gemi inşaat ve gemi makineleri mühendisliği',\n",
       "        'endüstri mühendisligi', 'endüstri̇ mühendi̇sli̇gi̇', 'hukuk',\n",
       "        'elektirik ve elektronik mühendisliği', 'endustri muh',\n",
       "        'gemi makineleri işletme mühendisliği',\n",
       "        'gemi makinesi işletme mühendisi',\n",
       "        'uluslararası ticaretti ve işletmecilik',\n",
       "        'deniz ulaştırma i̇şletme mühendisliği',\n",
       "        'bilgisayar programciligi', 'gemi makineleri işletme müh',\n",
       "        'elektrik elektronilk', 'uluslararasıticaret ve işletme',\n",
       "        'uluslararası ticaret ve işletme', 'gemi makine işletmeciliği',\n",
       "        'bilisim sistemleri muhendisligi', 'bilgisayar mühendisi',\n",
       "        'aşçılık', 'gemi makinaları i̇şletmeciliği', 'bilgisayar müh.',\n",
       "        'gi̇gi̇m', 'elektrik ve elektronik', 'eee',\n",
       "        'makine mühendisliği hendisliği', 'deniz ve liman işletmeciliği',\n",
       "        'yönetim bilişim sistemi', '', 'ie', 'yücel',\n",
       "        'yönetim bilişim sistemleşi', 'elektrik elektronik muhendisligi',\n",
       "        'endustri muhendisligi', 'dmyo broker'], dtype=object))"
      ]
     },
     "execution_count": 7,
     "metadata": {},
     "output_type": "execute_result"
    }
   ],
   "source": [
    "data[\"Bölümün:\"].nunique(),data[\"Bölümün:\"].unique()"
   ]
  },
  {
   "cell_type": "code",
   "execution_count": 8,
   "metadata": {},
   "outputs": [],
   "source": [
    "departments = [\n",
    "    \"Aşçılık\",\n",
    "    \"Bilişim Sistemleri Mühendisliği\",\n",
    "    \"Bilgisayar Mühendisliği\",\n",
    "    \"Bilgisayar Programcılığı\",\n",
    "    \"Deniz Ulaştırma İşletme Mühendisliği\",\n",
    "    \"Deniz ve Liman İşletmeciliği\",\n",
    "    \"Denizcilik İşletmeleri Yönetimi\",\n",
    "    \"Ekonomi ve Finans\",\n",
    "    \"Elektrik-Elektronik Mühendisliği\",\n",
    "    \"Endüstri Mühendisliği\",\n",
    "    \"Gemi İnşaatı ve Gemi Makineleri Mühendisliği\",\n",
    "    \"Gemi Makineleri İşletme Mühendisliği\",\n",
    "    \"Gemi Makineleri İşletmeciliği\",\n",
    "    \"Hukuk\",\n",
    "    \"Lojistik Yönetimi\",\n",
    "    \"Makine Mühendisliği\",\n",
    "    \"Mekatronik Mühendisliği\",\n",
    "    \"Uluslararası Ticaret ve İşletmecilik\",\n",
    "    \"Yat ve Marina İşletmeciliği\",\n",
    "    \"Yönetim Bilişim Sistemleri\"\n",
    "    \n",
    "]"
   ]
  },
  {
   "cell_type": "code",
   "execution_count": 9,
   "metadata": {},
   "outputs": [
    {
     "name": "stdout",
     "output_type": "stream",
     "text": [
      "Orijinal Değer: duim -> Eşleşme: Endüstri Mühendisliği (Skor: 26)\n",
      "Orijinal Değer: bsm -> Eşleşme: Bilgisayar Mühendisliği (Skor: 24)\n",
      "Orijinal Değer: ybs -> Eşleşme: Bilgisayar Mühendisliği (Skor: 16)\n",
      "Orijinal Değer: bsm -> Eşleşme: Bilgisayar Mühendisliği (Skor: 24)\n",
      "Orijinal Değer: bsm -> Eşleşme: Bilgisayar Mühendisliği (Skor: 24)\n",
      "Orijinal Değer: bsm -> Eşleşme: Bilgisayar Mühendisliği (Skor: 24)\n",
      "Orijinal Değer: ybs -> Eşleşme: Bilgisayar Mühendisliği (Skor: 16)\n",
      "Orijinal Değer: bsm3 -> Eşleşme: Bilgisayar Mühendisliği (Skor: 23)\n",
      "Orijinal Değer: ybs -> Eşleşme: Bilgisayar Mühendisliği (Skor: 16)\n",
      "Orijinal Değer: gigmm -> Eşleşme: Bilgisayar Programcılığı (Skor: 28)\n",
      "Orijinal Değer: duim -> Eşleşme: Endüstri Mühendisliği (Skor: 26)\n",
      "Orijinal Değer: ybs -> Eşleşme: Bilgisayar Mühendisliği (Skor: 16)\n",
      "Orijinal Değer: ybs -> Eşleşme: Bilgisayar Mühendisliği (Skor: 16)\n",
      "Orijinal Değer: gigmm -> Eşleşme: Bilgisayar Programcılığı (Skor: 28)\n",
      "Orijinal Değer: duim -> Eşleşme: Endüstri Mühendisliği (Skor: 26)\n",
      "Orijinal Değer: bsm -> Eşleşme: Bilgisayar Mühendisliği (Skor: 24)\n",
      "Orijinal Değer: ybs -> Eşleşme: Bilgisayar Mühendisliği (Skor: 16)\n",
      "Orijinal Değer: gi̇gi̇m -> Eşleşme: Lojistik Yönetimi (Skor: 35)\n",
      "Orijinal Değer: eee -> Eşleşme: Yönetim Bilişim Sistemleri (Skor: 21)\n",
      "Orijinal Değer: gigmm -> Eşleşme: Bilgisayar Programcılığı (Skor: 28)\n",
      "Orijinal Değer: duim -> Eşleşme: Endüstri Mühendisliği (Skor: 26)\n"
     ]
    },
    {
     "name": "stderr",
     "output_type": "stream",
     "text": [
      "WARNING:root:Applied processor reduces input query to empty string, all comparisons will have score 0. [Query: '']\n"
     ]
    },
    {
     "name": "stdout",
     "output_type": "stream",
     "text": [
      "Orijinal Değer: bsm -> Eşleşme: Bilgisayar Mühendisliği (Skor: 24)\n",
      "Orijinal Değer: bsm -> Eşleşme: Bilgisayar Mühendisliği (Skor: 24)\n",
      "Orijinal Değer:  -> Eşleşme: Aşçılık (Skor: 0)\n",
      "Orijinal Değer: ie -> Eşleşme: Lojistik Yönetimi (Skor: 22)\n",
      "Orijinal Değer: gigmm -> Eşleşme: Bilgisayar Programcılığı (Skor: 28)\n",
      "Orijinal Değer: gigmm -> Eşleşme: Bilgisayar Programcılığı (Skor: 28)\n",
      "Orijinal Değer: yücel -> Eşleşme: Bilgisayar Mühendisliği (Skor: 23)\n",
      "Orijinal Değer: gigmm -> Eşleşme: Bilgisayar Programcılığı (Skor: 28)\n",
      "Orijinal Değer: duim -> Eşleşme: Endüstri Mühendisliği (Skor: 26)\n",
      "Orijinal Değer: dmyo broker -> Eşleşme: Lojistik Yönetimi (Skor: 30)\n",
      "        Tamamlama saati                         Bölümün: Kaçıncı Sınıfsın:  \\\n",
      "0   2024-08-30 23:17:36  Bilişim Sistemleri Mühendisliği                 3   \n",
      "1   2024-08-30 23:45:46  Bilişim Sistemleri Mühendisliği                 3   \n",
      "2   2024-08-31 14:01:55       Yönetim Bilişim Sistemleri                 2   \n",
      "3   2024-08-31 14:02:53         Bilgisayar Programcılığı                 1   \n",
      "4   2024-08-31 14:03:28  Denizcilik İşletmeleri Yönetimi          Hazırlık   \n",
      "..                  ...                              ...               ...   \n",
      "418 2024-11-05 12:50:47       Yönetim Bilişim Sistemleri                 4   \n",
      "419 2024-11-12 14:23:23       Yönetim Bilişim Sistemleri                 1   \n",
      "420 2024-11-13 14:28:38       Yönetim Bilişim Sistemleri                 1   \n",
      "421 2024-11-21 01:41:51            Endüstri Mühendisliği                 1   \n",
      "422 2024-12-14 16:03:04                            Hukuk                 2   \n",
      "\n",
      "    Beklentilerini, isteklerini ve aklındaki her şeyi bizimle paylaşabilirsin. Fikirlerini duymak için sabırsızlanıyoruz..\\n  \n",
      "0                umarim guzel basarili bi donem olur..                                                                        \n",
      "1                                                  NaN                                                                        \n",
      "2                                                  NaN                                                                        \n",
      "3                                                  NaN                                                                        \n",
      "4                                                  NaN                                                                        \n",
      "..                                                 ...                                                                        \n",
      "418                                            Merhaba                                                                        \n",
      "419                                                NaN                                                                        \n",
      "420  Külüple kendimi geliştirmek ve akademik olarak...                                                                        \n",
      "421                                                NaN                                                                        \n",
      "422                                                NaN                                                                        \n",
      "\n",
      "[423 rows x 4 columns]\n"
     ]
    }
   ],
   "source": [
    "# Her satırın \"Bölümün:\" değerine göre fuzzy matching işlemi\n",
    "for index, row in data.iterrows():\n",
    "    bolum = row[\"Bölümün:\"]\n",
    "    \n",
    "    # FuzzyWuzzy ile en iyi eşleşmeyi (match) ve skorunu (score) alıyoruz\n",
    "    match, score = process.extractOne(bolum, departments, scorer=fuzz.token_sort_ratio)\n",
    "    \n",
    "    # Eğer skor %40 ve üzerindeyse DataFrame değerini eşleşen isimle değiştiriyoruz\n",
    "    if score >= 40:\n",
    "        data.at[index, \"Bölümün:\"] = match  \n",
    "    else :\n",
    "        print(f\"Orijinal Değer: {bolum} -> Eşleşme: {match} (Skor: {score})\")\n",
    "\n",
    "\n",
    "print(data)"
   ]
  },
  {
   "cell_type": "code",
   "execution_count": 10,
   "metadata": {},
   "outputs": [],
   "source": [
    "abbreviation_map = {\n",
    "    \"duim\":  \"Deniz Ulaştırma İşletme Mühendisliği\",\n",
    "    \"bsm\":   \"Bilişim Sistemleri Mühendisliği\",\n",
    "    \"ybs\":   \"Yönetim Bilişim Sistemleri\",\n",
    "    \"bsm3\":  \"Bilişim Sistemleri Mühendisliği\",  # 'bsm3' de 'BSM' kısaltmasının farklı bir yazımı\n",
    "    \"gigmm\": \"Gemi İnşaatı ve Gemi Makineleri Mühendisliği\",\n",
    "    \"gemi i̇nşaatı\":\"Gemi İnşaatı ve Gemi Makineleri Mühendisliği\",\n",
    "    \"gemi i̇nşaat\":\"Gemi İnşaatı ve Gemi Makineleri Mühendisliği\",\n",
    "    \"gi̇gi̇m\":\"Gemi İnşaatı ve Gemi Makineleri Mühendisliği\",\n",
    "    \"eee\":   \"Elektrik-Elektronik Mühendisliği\",\n",
    "    \"ie\":    \"Endüstri Mühendisliği\"\n",
    "}\n",
    "data[\"Bölümün:\"] = data[\"Bölümün:\"].apply(lambda x: abbreviation_map.get(x, x))"
   ]
  },
  {
   "cell_type": "code",
   "execution_count": 11,
   "metadata": {},
   "outputs": [
    {
     "data": {
      "text/plain": [
       "(array(['Bilişim Sistemleri Mühendisliği', 'Yönetim Bilişim Sistemleri',\n",
       "        'Bilgisayar Programcılığı', 'Denizcilik İşletmeleri Yönetimi',\n",
       "        'Endüstri Mühendisliği', 'Deniz Ulaştırma İşletme Mühendisliği',\n",
       "        'Gemi İnşaatı ve Gemi Makineleri Mühendisliği',\n",
       "        'Ekonomi ve Finans', 'Bilgisayar Mühendisliği',\n",
       "        'Elektrik-Elektronik Mühendisliği', 'Mekatronik Mühendisliği',\n",
       "        'Makine Mühendisliği', 'Lojistik Yönetimi',\n",
       "        'Gemi Makineleri İşletme Mühendisliği',\n",
       "        'Yat ve Marina İşletmeciliği',\n",
       "        'Uluslararası Ticaret ve İşletmecilik', 'Hukuk',\n",
       "        'Gemi Makineleri İşletmeciliği', 'Aşçılık',\n",
       "        'Deniz ve Liman İşletmeciliği', '', 'yücel', 'dmyo broker'],\n",
       "       dtype=object),\n",
       " 23)"
      ]
     },
     "execution_count": 11,
     "metadata": {},
     "output_type": "execute_result"
    }
   ],
   "source": [
    "data[\"Bölümün:\"].unique(),data[\"Bölümün:\"].nunique()"
   ]
  },
  {
   "cell_type": "code",
   "execution_count": 12,
   "metadata": {},
   "outputs": [
    {
     "name": "stdout",
     "output_type": "stream",
     "text": [
      "<class 'pandas.core.frame.DataFrame'>\n",
      "RangeIndex: 423 entries, 0 to 422\n",
      "Data columns (total 4 columns):\n",
      " #   Column                                                                                                                   Non-Null Count  Dtype         \n",
      "---  ------                                                                                                                   --------------  -----         \n",
      " 0   Tamamlama saati                                                                                                          422 non-null    datetime64[ns]\n",
      " 1   Bölümün:                                                                                                                 423 non-null    object        \n",
      " 2   Kaçıncı Sınıfsın:                                                                                                        422 non-null    object        \n",
      " 3   Beklentilerini, isteklerini ve aklındaki her şeyi bizimle paylaşabilirsin. Fikirlerini duymak için sabırsızlanıyoruz..\n",
      "  97 non-null     object        \n",
      "dtypes: datetime64[ns](1), object(3)\n",
      "memory usage: 13.3+ KB\n"
     ]
    }
   ],
   "source": [
    "data.info()"
   ]
  },
  {
   "cell_type": "code",
   "execution_count": 13,
   "metadata": {},
   "outputs": [
    {
     "data": {
      "text/html": [
       "<div>\n",
       "<style scoped>\n",
       "    .dataframe tbody tr th:only-of-type {\n",
       "        vertical-align: middle;\n",
       "    }\n",
       "\n",
       "    .dataframe tbody tr th {\n",
       "        vertical-align: top;\n",
       "    }\n",
       "\n",
       "    .dataframe thead th {\n",
       "        text-align: right;\n",
       "    }\n",
       "</style>\n",
       "<table border=\"1\" class=\"dataframe\">\n",
       "  <thead>\n",
       "    <tr style=\"text-align: right;\">\n",
       "      <th></th>\n",
       "      <th>Tamamlama saati</th>\n",
       "      <th>Bölümün:</th>\n",
       "      <th>Kaçıncı Sınıfsın:</th>\n",
       "      <th>Beklentilerini, isteklerini ve aklındaki her şeyi bizimle paylaşabilirsin. Fikirlerini duymak için sabırsızlanıyoruz..\\n</th>\n",
       "    </tr>\n",
       "  </thead>\n",
       "  <tbody>\n",
       "    <tr>\n",
       "      <th>0</th>\n",
       "      <td>2024-08-30 23:17:36</td>\n",
       "      <td>Bilişim Sistemleri Mühendisliği</td>\n",
       "      <td>3</td>\n",
       "      <td>umarim guzel basarili bi donem olur..</td>\n",
       "    </tr>\n",
       "    <tr>\n",
       "      <th>1</th>\n",
       "      <td>2024-08-30 23:45:46</td>\n",
       "      <td>Bilişim Sistemleri Mühendisliği</td>\n",
       "      <td>3</td>\n",
       "      <td>NaN</td>\n",
       "    </tr>\n",
       "    <tr>\n",
       "      <th>2</th>\n",
       "      <td>2024-08-31 14:01:55</td>\n",
       "      <td>Yönetim Bilişim Sistemleri</td>\n",
       "      <td>2</td>\n",
       "      <td>NaN</td>\n",
       "    </tr>\n",
       "    <tr>\n",
       "      <th>3</th>\n",
       "      <td>2024-08-31 14:02:53</td>\n",
       "      <td>Bilgisayar Programcılığı</td>\n",
       "      <td>1</td>\n",
       "      <td>NaN</td>\n",
       "    </tr>\n",
       "    <tr>\n",
       "      <th>4</th>\n",
       "      <td>2024-08-31 14:03:28</td>\n",
       "      <td>Denizcilik İşletmeleri Yönetimi</td>\n",
       "      <td>Hazırlık</td>\n",
       "      <td>NaN</td>\n",
       "    </tr>\n",
       "  </tbody>\n",
       "</table>\n",
       "</div>"
      ],
      "text/plain": [
       "      Tamamlama saati                         Bölümün: Kaçıncı Sınıfsın:  \\\n",
       "0 2024-08-30 23:17:36  Bilişim Sistemleri Mühendisliği                 3   \n",
       "1 2024-08-30 23:45:46  Bilişim Sistemleri Mühendisliği                 3   \n",
       "2 2024-08-31 14:01:55       Yönetim Bilişim Sistemleri                 2   \n",
       "3 2024-08-31 14:02:53         Bilgisayar Programcılığı                 1   \n",
       "4 2024-08-31 14:03:28  Denizcilik İşletmeleri Yönetimi          Hazırlık   \n",
       "\n",
       "  Beklentilerini, isteklerini ve aklındaki her şeyi bizimle paylaşabilirsin. Fikirlerini duymak için sabırsızlanıyoruz..\\n  \n",
       "0              umarim guzel basarili bi donem olur..                                                                        \n",
       "1                                                NaN                                                                        \n",
       "2                                                NaN                                                                        \n",
       "3                                                NaN                                                                        \n",
       "4                                                NaN                                                                        "
      ]
     },
     "execution_count": 13,
     "metadata": {},
     "output_type": "execute_result"
    }
   ],
   "source": [
    "data.head()"
   ]
  },
  {
   "cell_type": "code",
   "execution_count": 24,
   "metadata": {},
   "outputs": [
    {
     "data": {
      "text/html": [
       "<div>\n",
       "<style scoped>\n",
       "    .dataframe tbody tr th:only-of-type {\n",
       "        vertical-align: middle;\n",
       "    }\n",
       "\n",
       "    .dataframe tbody tr th {\n",
       "        vertical-align: top;\n",
       "    }\n",
       "\n",
       "    .dataframe thead th {\n",
       "        text-align: right;\n",
       "    }\n",
       "</style>\n",
       "<table border=\"1\" class=\"dataframe\">\n",
       "  <thead>\n",
       "    <tr style=\"text-align: right;\">\n",
       "      <th></th>\n",
       "      <th>Tarih</th>\n",
       "      <th>Giriş Sayısı</th>\n",
       "    </tr>\n",
       "  </thead>\n",
       "  <tbody>\n",
       "    <tr>\n",
       "      <th>0</th>\n",
       "      <td>2024-08-30</td>\n",
       "      <td>2</td>\n",
       "    </tr>\n",
       "    <tr>\n",
       "      <th>1</th>\n",
       "      <td>2024-08-31</td>\n",
       "      <td>65</td>\n",
       "    </tr>\n",
       "    <tr>\n",
       "      <th>2</th>\n",
       "      <td>2024-09-01</td>\n",
       "      <td>22</td>\n",
       "    </tr>\n",
       "    <tr>\n",
       "      <th>3</th>\n",
       "      <td>2024-09-02</td>\n",
       "      <td>10</td>\n",
       "    </tr>\n",
       "    <tr>\n",
       "      <th>4</th>\n",
       "      <td>2024-09-03</td>\n",
       "      <td>16</td>\n",
       "    </tr>\n",
       "    <tr>\n",
       "      <th>5</th>\n",
       "      <td>2024-09-04</td>\n",
       "      <td>3</td>\n",
       "    </tr>\n",
       "    <tr>\n",
       "      <th>6</th>\n",
       "      <td>2024-09-05</td>\n",
       "      <td>1</td>\n",
       "    </tr>\n",
       "    <tr>\n",
       "      <th>7</th>\n",
       "      <td>2024-09-07</td>\n",
       "      <td>13</td>\n",
       "    </tr>\n",
       "    <tr>\n",
       "      <th>8</th>\n",
       "      <td>2024-09-08</td>\n",
       "      <td>31</td>\n",
       "    </tr>\n",
       "    <tr>\n",
       "      <th>9</th>\n",
       "      <td>2024-09-11</td>\n",
       "      <td>1</td>\n",
       "    </tr>\n",
       "    <tr>\n",
       "      <th>10</th>\n",
       "      <td>2024-09-13</td>\n",
       "      <td>4</td>\n",
       "    </tr>\n",
       "    <tr>\n",
       "      <th>11</th>\n",
       "      <td>2024-09-14</td>\n",
       "      <td>1</td>\n",
       "    </tr>\n",
       "    <tr>\n",
       "      <th>12</th>\n",
       "      <td>2024-09-15</td>\n",
       "      <td>1</td>\n",
       "    </tr>\n",
       "    <tr>\n",
       "      <th>13</th>\n",
       "      <td>2024-09-17</td>\n",
       "      <td>2</td>\n",
       "    </tr>\n",
       "    <tr>\n",
       "      <th>14</th>\n",
       "      <td>2024-09-18</td>\n",
       "      <td>1</td>\n",
       "    </tr>\n",
       "    <tr>\n",
       "      <th>15</th>\n",
       "      <td>2024-09-24</td>\n",
       "      <td>2</td>\n",
       "    </tr>\n",
       "    <tr>\n",
       "      <th>16</th>\n",
       "      <td>2024-09-25</td>\n",
       "      <td>1</td>\n",
       "    </tr>\n",
       "    <tr>\n",
       "      <th>17</th>\n",
       "      <td>2024-10-01</td>\n",
       "      <td>89</td>\n",
       "    </tr>\n",
       "    <tr>\n",
       "      <th>18</th>\n",
       "      <td>2024-10-02</td>\n",
       "      <td>20</td>\n",
       "    </tr>\n",
       "    <tr>\n",
       "      <th>19</th>\n",
       "      <td>2024-10-03</td>\n",
       "      <td>52</td>\n",
       "    </tr>\n",
       "    <tr>\n",
       "      <th>20</th>\n",
       "      <td>2024-10-04</td>\n",
       "      <td>7</td>\n",
       "    </tr>\n",
       "    <tr>\n",
       "      <th>21</th>\n",
       "      <td>2024-10-05</td>\n",
       "      <td>1</td>\n",
       "    </tr>\n",
       "    <tr>\n",
       "      <th>22</th>\n",
       "      <td>2024-10-06</td>\n",
       "      <td>6</td>\n",
       "    </tr>\n",
       "    <tr>\n",
       "      <th>23</th>\n",
       "      <td>2024-10-07</td>\n",
       "      <td>4</td>\n",
       "    </tr>\n",
       "    <tr>\n",
       "      <th>24</th>\n",
       "      <td>2024-10-08</td>\n",
       "      <td>11</td>\n",
       "    </tr>\n",
       "    <tr>\n",
       "      <th>25</th>\n",
       "      <td>2024-10-09</td>\n",
       "      <td>6</td>\n",
       "    </tr>\n",
       "    <tr>\n",
       "      <th>26</th>\n",
       "      <td>2024-10-10</td>\n",
       "      <td>17</td>\n",
       "    </tr>\n",
       "    <tr>\n",
       "      <th>27</th>\n",
       "      <td>2024-10-11</td>\n",
       "      <td>4</td>\n",
       "    </tr>\n",
       "    <tr>\n",
       "      <th>28</th>\n",
       "      <td>2024-10-12</td>\n",
       "      <td>2</td>\n",
       "    </tr>\n",
       "    <tr>\n",
       "      <th>29</th>\n",
       "      <td>2024-10-13</td>\n",
       "      <td>1</td>\n",
       "    </tr>\n",
       "    <tr>\n",
       "      <th>30</th>\n",
       "      <td>2024-10-14</td>\n",
       "      <td>13</td>\n",
       "    </tr>\n",
       "    <tr>\n",
       "      <th>31</th>\n",
       "      <td>2024-10-15</td>\n",
       "      <td>2</td>\n",
       "    </tr>\n",
       "    <tr>\n",
       "      <th>32</th>\n",
       "      <td>2024-10-18</td>\n",
       "      <td>2</td>\n",
       "    </tr>\n",
       "    <tr>\n",
       "      <th>33</th>\n",
       "      <td>2024-10-19</td>\n",
       "      <td>1</td>\n",
       "    </tr>\n",
       "    <tr>\n",
       "      <th>34</th>\n",
       "      <td>2024-10-22</td>\n",
       "      <td>3</td>\n",
       "    </tr>\n",
       "    <tr>\n",
       "      <th>35</th>\n",
       "      <td>2024-11-05</td>\n",
       "      <td>1</td>\n",
       "    </tr>\n",
       "    <tr>\n",
       "      <th>36</th>\n",
       "      <td>2024-11-12</td>\n",
       "      <td>1</td>\n",
       "    </tr>\n",
       "    <tr>\n",
       "      <th>37</th>\n",
       "      <td>2024-11-13</td>\n",
       "      <td>1</td>\n",
       "    </tr>\n",
       "    <tr>\n",
       "      <th>38</th>\n",
       "      <td>2024-11-21</td>\n",
       "      <td>1</td>\n",
       "    </tr>\n",
       "    <tr>\n",
       "      <th>39</th>\n",
       "      <td>2024-12-14</td>\n",
       "      <td>1</td>\n",
       "    </tr>\n",
       "  </tbody>\n",
       "</table>\n",
       "</div>"
      ],
      "text/plain": [
       "         Tarih  Giriş Sayısı\n",
       "0   2024-08-30             2\n",
       "1   2024-08-31            65\n",
       "2   2024-09-01            22\n",
       "3   2024-09-02            10\n",
       "4   2024-09-03            16\n",
       "5   2024-09-04             3\n",
       "6   2024-09-05             1\n",
       "7   2024-09-07            13\n",
       "8   2024-09-08            31\n",
       "9   2024-09-11             1\n",
       "10  2024-09-13             4\n",
       "11  2024-09-14             1\n",
       "12  2024-09-15             1\n",
       "13  2024-09-17             2\n",
       "14  2024-09-18             1\n",
       "15  2024-09-24             2\n",
       "16  2024-09-25             1\n",
       "17  2024-10-01            89\n",
       "18  2024-10-02            20\n",
       "19  2024-10-03            52\n",
       "20  2024-10-04             7\n",
       "21  2024-10-05             1\n",
       "22  2024-10-06             6\n",
       "23  2024-10-07             4\n",
       "24  2024-10-08            11\n",
       "25  2024-10-09             6\n",
       "26  2024-10-10            17\n",
       "27  2024-10-11             4\n",
       "28  2024-10-12             2\n",
       "29  2024-10-13             1\n",
       "30  2024-10-14            13\n",
       "31  2024-10-15             2\n",
       "32  2024-10-18             2\n",
       "33  2024-10-19             1\n",
       "34  2024-10-22             3\n",
       "35  2024-11-05             1\n",
       "36  2024-11-12             1\n",
       "37  2024-11-13             1\n",
       "38  2024-11-21             1\n",
       "39  2024-12-14             1"
      ]
     },
     "execution_count": 24,
     "metadata": {},
     "output_type": "execute_result"
    }
   ],
   "source": [
    "daily_counts = data.groupby('Tarih').size().reset_index(name='Giriş Sayısı')\n",
    "daily_counts"
   ]
  },
  {
   "cell_type": "code",
   "execution_count": 53,
   "metadata": {},
   "outputs": [
    {
     "data": {
      "text/html": [
       "<div>\n",
       "<style scoped>\n",
       "    .dataframe tbody tr th:only-of-type {\n",
       "        vertical-align: middle;\n",
       "    }\n",
       "\n",
       "    .dataframe tbody tr th {\n",
       "        vertical-align: top;\n",
       "    }\n",
       "\n",
       "    .dataframe thead th {\n",
       "        text-align: right;\n",
       "    }\n",
       "</style>\n",
       "<table border=\"1\" class=\"dataframe\">\n",
       "  <thead>\n",
       "    <tr style=\"text-align: right;\">\n",
       "      <th></th>\n",
       "      <th>Bölümün:</th>\n",
       "      <th>count</th>\n",
       "    </tr>\n",
       "  </thead>\n",
       "  <tbody>\n",
       "    <tr>\n",
       "      <th>0</th>\n",
       "      <td>Yönetim Bilişim Sistemleri</td>\n",
       "      <td>99</td>\n",
       "    </tr>\n",
       "    <tr>\n",
       "      <th>1</th>\n",
       "      <td>Bilişim Sistemleri Mühendisliği</td>\n",
       "      <td>69</td>\n",
       "    </tr>\n",
       "    <tr>\n",
       "      <th>2</th>\n",
       "      <td>Bilgisayar Mühendisliği</td>\n",
       "      <td>54</td>\n",
       "    </tr>\n",
       "    <tr>\n",
       "      <th>3</th>\n",
       "      <td>Bilgisayar Programcılığı</td>\n",
       "      <td>53</td>\n",
       "    </tr>\n",
       "    <tr>\n",
       "      <th>4</th>\n",
       "      <td>Endüstri Mühendisliği</td>\n",
       "      <td>36</td>\n",
       "    </tr>\n",
       "    <tr>\n",
       "      <th>5</th>\n",
       "      <td>Gemi İnşaatı ve Gemi Makineleri Mühendisliği</td>\n",
       "      <td>19</td>\n",
       "    </tr>\n",
       "    <tr>\n",
       "      <th>6</th>\n",
       "      <td>Elektrik-Elektronik Mühendisliği</td>\n",
       "      <td>17</td>\n",
       "    </tr>\n",
       "    <tr>\n",
       "      <th>7</th>\n",
       "      <td>Gemi Makineleri İşletme Mühendisliği</td>\n",
       "      <td>11</td>\n",
       "    </tr>\n",
       "    <tr>\n",
       "      <th>8</th>\n",
       "      <td>Makine Mühendisliği</td>\n",
       "      <td>11</td>\n",
       "    </tr>\n",
       "    <tr>\n",
       "      <th>9</th>\n",
       "      <td>Ekonomi ve Finans</td>\n",
       "      <td>11</td>\n",
       "    </tr>\n",
       "    <tr>\n",
       "      <th>10</th>\n",
       "      <td>Deniz Ulaştırma İşletme Mühendisliği</td>\n",
       "      <td>9</td>\n",
       "    </tr>\n",
       "    <tr>\n",
       "      <th>11</th>\n",
       "      <td>Hukuk</td>\n",
       "      <td>8</td>\n",
       "    </tr>\n",
       "    <tr>\n",
       "      <th>12</th>\n",
       "      <td>Denizcilik İşletmeleri Yönetimi</td>\n",
       "      <td>6</td>\n",
       "    </tr>\n",
       "    <tr>\n",
       "      <th>13</th>\n",
       "      <td>Uluslararası Ticaret ve İşletmecilik</td>\n",
       "      <td>5</td>\n",
       "    </tr>\n",
       "    <tr>\n",
       "      <th>14</th>\n",
       "      <td>Lojistik Yönetimi</td>\n",
       "      <td>4</td>\n",
       "    </tr>\n",
       "    <tr>\n",
       "      <th>15</th>\n",
       "      <td>Mekatronik Mühendisliği</td>\n",
       "      <td>3</td>\n",
       "    </tr>\n",
       "    <tr>\n",
       "      <th>16</th>\n",
       "      <td>Deniz ve Liman İşletmeciliği</td>\n",
       "      <td>2</td>\n",
       "    </tr>\n",
       "    <tr>\n",
       "      <th>17</th>\n",
       "      <td>Yat ve Marina İşletmeciliği</td>\n",
       "      <td>1</td>\n",
       "    </tr>\n",
       "    <tr>\n",
       "      <th>18</th>\n",
       "      <td>Gemi Makineleri İşletmeciliği</td>\n",
       "      <td>1</td>\n",
       "    </tr>\n",
       "    <tr>\n",
       "      <th>19</th>\n",
       "      <td>Aşçılık</td>\n",
       "      <td>1</td>\n",
       "    </tr>\n",
       "    <tr>\n",
       "      <th>20</th>\n",
       "      <td></td>\n",
       "      <td>1</td>\n",
       "    </tr>\n",
       "    <tr>\n",
       "      <th>21</th>\n",
       "      <td>yücel</td>\n",
       "      <td>1</td>\n",
       "    </tr>\n",
       "    <tr>\n",
       "      <th>22</th>\n",
       "      <td>dmyo broker</td>\n",
       "      <td>1</td>\n",
       "    </tr>\n",
       "  </tbody>\n",
       "</table>\n",
       "</div>"
      ],
      "text/plain": [
       "                                        Bölümün:  count\n",
       "0                     Yönetim Bilişim Sistemleri     99\n",
       "1                Bilişim Sistemleri Mühendisliği     69\n",
       "2                        Bilgisayar Mühendisliği     54\n",
       "3                       Bilgisayar Programcılığı     53\n",
       "4                          Endüstri Mühendisliği     36\n",
       "5   Gemi İnşaatı ve Gemi Makineleri Mühendisliği     19\n",
       "6               Elektrik-Elektronik Mühendisliği     17\n",
       "7           Gemi Makineleri İşletme Mühendisliği     11\n",
       "8                            Makine Mühendisliği     11\n",
       "9                              Ekonomi ve Finans     11\n",
       "10          Deniz Ulaştırma İşletme Mühendisliği      9\n",
       "11                                         Hukuk      8\n",
       "12               Denizcilik İşletmeleri Yönetimi      6\n",
       "13          Uluslararası Ticaret ve İşletmecilik      5\n",
       "14                             Lojistik Yönetimi      4\n",
       "15                       Mekatronik Mühendisliği      3\n",
       "16                  Deniz ve Liman İşletmeciliği      2\n",
       "17                   Yat ve Marina İşletmeciliği      1\n",
       "18                 Gemi Makineleri İşletmeciliği      1\n",
       "19                                       Aşçılık      1\n",
       "20                                                    1\n",
       "21                                         yücel      1\n",
       "22                                   dmyo broker      1"
      ]
     },
     "execution_count": 53,
     "metadata": {},
     "output_type": "execute_result"
    }
   ],
   "source": [
    "bölümün=data[\"Bölümün:\"].value_counts().reset_index()\n",
    "bölümün"
   ]
  },
  {
   "cell_type": "code",
   "execution_count": 36,
   "metadata": {},
   "outputs": [
    {
     "data": {
      "application/vnd.plotly.v1+json": {
       "config": {
        "plotlyServerURL": "https://plot.ly"
       },
       "data": [
        {
         "hovertemplate": "Tarih=%{text}<br>Giriş Sayısı=%{y}<extra></extra>",
         "legendgroup": "",
         "line": {
          "color": "#636efa",
          "dash": "solid"
         },
         "marker": {
          "symbol": "circle"
         },
         "mode": "text+markers+lines",
         "name": "",
         "orientation": "v",
         "showlegend": false,
         "text": [
          "2024-08-30",
          "2024-08-31",
          "2024-09-01",
          "2024-09-02",
          "2024-09-03",
          "2024-09-04",
          "2024-09-05",
          "2024-09-07",
          "2024-09-08",
          "2024-09-11",
          "2024-09-13",
          "2024-09-14",
          "2024-09-15",
          "2024-09-17",
          "2024-09-18",
          "2024-09-24",
          "2024-09-25",
          "2024-10-01",
          "2024-10-02",
          "2024-10-03",
          "2024-10-04",
          "2024-10-05",
          "2024-10-06",
          "2024-10-07",
          "2024-10-08",
          "2024-10-09",
          "2024-10-10",
          "2024-10-11",
          "2024-10-12",
          "2024-10-13",
          "2024-10-14",
          "2024-10-15",
          "2024-10-18",
          "2024-10-19",
          "2024-10-22",
          "2024-11-05",
          "2024-11-12",
          "2024-11-13",
          "2024-11-21",
          "2024-12-14"
         ],
         "type": "scatter",
         "x": [
          "2024-08-30",
          "2024-08-31",
          "2024-09-01",
          "2024-09-02",
          "2024-09-03",
          "2024-09-04",
          "2024-09-05",
          "2024-09-07",
          "2024-09-08",
          "2024-09-11",
          "2024-09-13",
          "2024-09-14",
          "2024-09-15",
          "2024-09-17",
          "2024-09-18",
          "2024-09-24",
          "2024-09-25",
          "2024-10-01",
          "2024-10-02",
          "2024-10-03",
          "2024-10-04",
          "2024-10-05",
          "2024-10-06",
          "2024-10-07",
          "2024-10-08",
          "2024-10-09",
          "2024-10-10",
          "2024-10-11",
          "2024-10-12",
          "2024-10-13",
          "2024-10-14",
          "2024-10-15",
          "2024-10-18",
          "2024-10-19",
          "2024-10-22",
          "2024-11-05",
          "2024-11-12",
          "2024-11-13",
          "2024-11-21",
          "2024-12-14"
         ],
         "xaxis": "x",
         "y": [
          2,
          65,
          22,
          10,
          16,
          3,
          1,
          13,
          31,
          1,
          4,
          1,
          1,
          2,
          1,
          2,
          1,
          89,
          20,
          52,
          7,
          1,
          6,
          4,
          11,
          6,
          17,
          4,
          2,
          1,
          13,
          2,
          2,
          1,
          3,
          1,
          1,
          1,
          1,
          1
         ],
         "yaxis": "y"
        }
       ],
       "layout": {
        "legend": {
         "tracegroupgap": 0
        },
        "template": {
         "data": {
          "bar": [
           {
            "error_x": {
             "color": "#2a3f5f"
            },
            "error_y": {
             "color": "#2a3f5f"
            },
            "marker": {
             "line": {
              "color": "#E5ECF6",
              "width": 0.5
             },
             "pattern": {
              "fillmode": "overlay",
              "size": 10,
              "solidity": 0.2
             }
            },
            "type": "bar"
           }
          ],
          "barpolar": [
           {
            "marker": {
             "line": {
              "color": "#E5ECF6",
              "width": 0.5
             },
             "pattern": {
              "fillmode": "overlay",
              "size": 10,
              "solidity": 0.2
             }
            },
            "type": "barpolar"
           }
          ],
          "carpet": [
           {
            "aaxis": {
             "endlinecolor": "#2a3f5f",
             "gridcolor": "white",
             "linecolor": "white",
             "minorgridcolor": "white",
             "startlinecolor": "#2a3f5f"
            },
            "baxis": {
             "endlinecolor": "#2a3f5f",
             "gridcolor": "white",
             "linecolor": "white",
             "minorgridcolor": "white",
             "startlinecolor": "#2a3f5f"
            },
            "type": "carpet"
           }
          ],
          "choropleth": [
           {
            "colorbar": {
             "outlinewidth": 0,
             "ticks": ""
            },
            "type": "choropleth"
           }
          ],
          "contour": [
           {
            "colorbar": {
             "outlinewidth": 0,
             "ticks": ""
            },
            "colorscale": [
             [
              0,
              "#0d0887"
             ],
             [
              0.1111111111111111,
              "#46039f"
             ],
             [
              0.2222222222222222,
              "#7201a8"
             ],
             [
              0.3333333333333333,
              "#9c179e"
             ],
             [
              0.4444444444444444,
              "#bd3786"
             ],
             [
              0.5555555555555556,
              "#d8576b"
             ],
             [
              0.6666666666666666,
              "#ed7953"
             ],
             [
              0.7777777777777778,
              "#fb9f3a"
             ],
             [
              0.8888888888888888,
              "#fdca26"
             ],
             [
              1,
              "#f0f921"
             ]
            ],
            "type": "contour"
           }
          ],
          "contourcarpet": [
           {
            "colorbar": {
             "outlinewidth": 0,
             "ticks": ""
            },
            "type": "contourcarpet"
           }
          ],
          "heatmap": [
           {
            "colorbar": {
             "outlinewidth": 0,
             "ticks": ""
            },
            "colorscale": [
             [
              0,
              "#0d0887"
             ],
             [
              0.1111111111111111,
              "#46039f"
             ],
             [
              0.2222222222222222,
              "#7201a8"
             ],
             [
              0.3333333333333333,
              "#9c179e"
             ],
             [
              0.4444444444444444,
              "#bd3786"
             ],
             [
              0.5555555555555556,
              "#d8576b"
             ],
             [
              0.6666666666666666,
              "#ed7953"
             ],
             [
              0.7777777777777778,
              "#fb9f3a"
             ],
             [
              0.8888888888888888,
              "#fdca26"
             ],
             [
              1,
              "#f0f921"
             ]
            ],
            "type": "heatmap"
           }
          ],
          "heatmapgl": [
           {
            "colorbar": {
             "outlinewidth": 0,
             "ticks": ""
            },
            "colorscale": [
             [
              0,
              "#0d0887"
             ],
             [
              0.1111111111111111,
              "#46039f"
             ],
             [
              0.2222222222222222,
              "#7201a8"
             ],
             [
              0.3333333333333333,
              "#9c179e"
             ],
             [
              0.4444444444444444,
              "#bd3786"
             ],
             [
              0.5555555555555556,
              "#d8576b"
             ],
             [
              0.6666666666666666,
              "#ed7953"
             ],
             [
              0.7777777777777778,
              "#fb9f3a"
             ],
             [
              0.8888888888888888,
              "#fdca26"
             ],
             [
              1,
              "#f0f921"
             ]
            ],
            "type": "heatmapgl"
           }
          ],
          "histogram": [
           {
            "marker": {
             "pattern": {
              "fillmode": "overlay",
              "size": 10,
              "solidity": 0.2
             }
            },
            "type": "histogram"
           }
          ],
          "histogram2d": [
           {
            "colorbar": {
             "outlinewidth": 0,
             "ticks": ""
            },
            "colorscale": [
             [
              0,
              "#0d0887"
             ],
             [
              0.1111111111111111,
              "#46039f"
             ],
             [
              0.2222222222222222,
              "#7201a8"
             ],
             [
              0.3333333333333333,
              "#9c179e"
             ],
             [
              0.4444444444444444,
              "#bd3786"
             ],
             [
              0.5555555555555556,
              "#d8576b"
             ],
             [
              0.6666666666666666,
              "#ed7953"
             ],
             [
              0.7777777777777778,
              "#fb9f3a"
             ],
             [
              0.8888888888888888,
              "#fdca26"
             ],
             [
              1,
              "#f0f921"
             ]
            ],
            "type": "histogram2d"
           }
          ],
          "histogram2dcontour": [
           {
            "colorbar": {
             "outlinewidth": 0,
             "ticks": ""
            },
            "colorscale": [
             [
              0,
              "#0d0887"
             ],
             [
              0.1111111111111111,
              "#46039f"
             ],
             [
              0.2222222222222222,
              "#7201a8"
             ],
             [
              0.3333333333333333,
              "#9c179e"
             ],
             [
              0.4444444444444444,
              "#bd3786"
             ],
             [
              0.5555555555555556,
              "#d8576b"
             ],
             [
              0.6666666666666666,
              "#ed7953"
             ],
             [
              0.7777777777777778,
              "#fb9f3a"
             ],
             [
              0.8888888888888888,
              "#fdca26"
             ],
             [
              1,
              "#f0f921"
             ]
            ],
            "type": "histogram2dcontour"
           }
          ],
          "mesh3d": [
           {
            "colorbar": {
             "outlinewidth": 0,
             "ticks": ""
            },
            "type": "mesh3d"
           }
          ],
          "parcoords": [
           {
            "line": {
             "colorbar": {
              "outlinewidth": 0,
              "ticks": ""
             }
            },
            "type": "parcoords"
           }
          ],
          "pie": [
           {
            "automargin": true,
            "type": "pie"
           }
          ],
          "scatter": [
           {
            "fillpattern": {
             "fillmode": "overlay",
             "size": 10,
             "solidity": 0.2
            },
            "type": "scatter"
           }
          ],
          "scatter3d": [
           {
            "line": {
             "colorbar": {
              "outlinewidth": 0,
              "ticks": ""
             }
            },
            "marker": {
             "colorbar": {
              "outlinewidth": 0,
              "ticks": ""
             }
            },
            "type": "scatter3d"
           }
          ],
          "scattercarpet": [
           {
            "marker": {
             "colorbar": {
              "outlinewidth": 0,
              "ticks": ""
             }
            },
            "type": "scattercarpet"
           }
          ],
          "scattergeo": [
           {
            "marker": {
             "colorbar": {
              "outlinewidth": 0,
              "ticks": ""
             }
            },
            "type": "scattergeo"
           }
          ],
          "scattergl": [
           {
            "marker": {
             "colorbar": {
              "outlinewidth": 0,
              "ticks": ""
             }
            },
            "type": "scattergl"
           }
          ],
          "scattermapbox": [
           {
            "marker": {
             "colorbar": {
              "outlinewidth": 0,
              "ticks": ""
             }
            },
            "type": "scattermapbox"
           }
          ],
          "scatterpolar": [
           {
            "marker": {
             "colorbar": {
              "outlinewidth": 0,
              "ticks": ""
             }
            },
            "type": "scatterpolar"
           }
          ],
          "scatterpolargl": [
           {
            "marker": {
             "colorbar": {
              "outlinewidth": 0,
              "ticks": ""
             }
            },
            "type": "scatterpolargl"
           }
          ],
          "scatterternary": [
           {
            "marker": {
             "colorbar": {
              "outlinewidth": 0,
              "ticks": ""
             }
            },
            "type": "scatterternary"
           }
          ],
          "surface": [
           {
            "colorbar": {
             "outlinewidth": 0,
             "ticks": ""
            },
            "colorscale": [
             [
              0,
              "#0d0887"
             ],
             [
              0.1111111111111111,
              "#46039f"
             ],
             [
              0.2222222222222222,
              "#7201a8"
             ],
             [
              0.3333333333333333,
              "#9c179e"
             ],
             [
              0.4444444444444444,
              "#bd3786"
             ],
             [
              0.5555555555555556,
              "#d8576b"
             ],
             [
              0.6666666666666666,
              "#ed7953"
             ],
             [
              0.7777777777777778,
              "#fb9f3a"
             ],
             [
              0.8888888888888888,
              "#fdca26"
             ],
             [
              1,
              "#f0f921"
             ]
            ],
            "type": "surface"
           }
          ],
          "table": [
           {
            "cells": {
             "fill": {
              "color": "#EBF0F8"
             },
             "line": {
              "color": "white"
             }
            },
            "header": {
             "fill": {
              "color": "#C8D4E3"
             },
             "line": {
              "color": "white"
             }
            },
            "type": "table"
           }
          ]
         },
         "layout": {
          "annotationdefaults": {
           "arrowcolor": "#2a3f5f",
           "arrowhead": 0,
           "arrowwidth": 1
          },
          "autotypenumbers": "strict",
          "coloraxis": {
           "colorbar": {
            "outlinewidth": 0,
            "ticks": ""
           }
          },
          "colorscale": {
           "diverging": [
            [
             0,
             "#8e0152"
            ],
            [
             0.1,
             "#c51b7d"
            ],
            [
             0.2,
             "#de77ae"
            ],
            [
             0.3,
             "#f1b6da"
            ],
            [
             0.4,
             "#fde0ef"
            ],
            [
             0.5,
             "#f7f7f7"
            ],
            [
             0.6,
             "#e6f5d0"
            ],
            [
             0.7,
             "#b8e186"
            ],
            [
             0.8,
             "#7fbc41"
            ],
            [
             0.9,
             "#4d9221"
            ],
            [
             1,
             "#276419"
            ]
           ],
           "sequential": [
            [
             0,
             "#0d0887"
            ],
            [
             0.1111111111111111,
             "#46039f"
            ],
            [
             0.2222222222222222,
             "#7201a8"
            ],
            [
             0.3333333333333333,
             "#9c179e"
            ],
            [
             0.4444444444444444,
             "#bd3786"
            ],
            [
             0.5555555555555556,
             "#d8576b"
            ],
            [
             0.6666666666666666,
             "#ed7953"
            ],
            [
             0.7777777777777778,
             "#fb9f3a"
            ],
            [
             0.8888888888888888,
             "#fdca26"
            ],
            [
             1,
             "#f0f921"
            ]
           ],
           "sequentialminus": [
            [
             0,
             "#0d0887"
            ],
            [
             0.1111111111111111,
             "#46039f"
            ],
            [
             0.2222222222222222,
             "#7201a8"
            ],
            [
             0.3333333333333333,
             "#9c179e"
            ],
            [
             0.4444444444444444,
             "#bd3786"
            ],
            [
             0.5555555555555556,
             "#d8576b"
            ],
            [
             0.6666666666666666,
             "#ed7953"
            ],
            [
             0.7777777777777778,
             "#fb9f3a"
            ],
            [
             0.8888888888888888,
             "#fdca26"
            ],
            [
             1,
             "#f0f921"
            ]
           ]
          },
          "colorway": [
           "#636efa",
           "#EF553B",
           "#00cc96",
           "#ab63fa",
           "#FFA15A",
           "#19d3f3",
           "#FF6692",
           "#B6E880",
           "#FF97FF",
           "#FECB52"
          ],
          "font": {
           "color": "#2a3f5f"
          },
          "geo": {
           "bgcolor": "white",
           "lakecolor": "white",
           "landcolor": "#E5ECF6",
           "showlakes": true,
           "showland": true,
           "subunitcolor": "white"
          },
          "hoverlabel": {
           "align": "left"
          },
          "hovermode": "closest",
          "mapbox": {
           "style": "light"
          },
          "paper_bgcolor": "white",
          "plot_bgcolor": "#E5ECF6",
          "polar": {
           "angularaxis": {
            "gridcolor": "white",
            "linecolor": "white",
            "ticks": ""
           },
           "bgcolor": "#E5ECF6",
           "radialaxis": {
            "gridcolor": "white",
            "linecolor": "white",
            "ticks": ""
           }
          },
          "scene": {
           "xaxis": {
            "backgroundcolor": "#E5ECF6",
            "gridcolor": "white",
            "gridwidth": 2,
            "linecolor": "white",
            "showbackground": true,
            "ticks": "",
            "zerolinecolor": "white"
           },
           "yaxis": {
            "backgroundcolor": "#E5ECF6",
            "gridcolor": "white",
            "gridwidth": 2,
            "linecolor": "white",
            "showbackground": true,
            "ticks": "",
            "zerolinecolor": "white"
           },
           "zaxis": {
            "backgroundcolor": "#E5ECF6",
            "gridcolor": "white",
            "gridwidth": 2,
            "linecolor": "white",
            "showbackground": true,
            "ticks": "",
            "zerolinecolor": "white"
           }
          },
          "shapedefaults": {
           "line": {
            "color": "#2a3f5f"
           }
          },
          "ternary": {
           "aaxis": {
            "gridcolor": "white",
            "linecolor": "white",
            "ticks": ""
           },
           "baxis": {
            "gridcolor": "white",
            "linecolor": "white",
            "ticks": ""
           },
           "bgcolor": "#E5ECF6",
           "caxis": {
            "gridcolor": "white",
            "linecolor": "white",
            "ticks": ""
           }
          },
          "title": {
           "x": 0.05
          },
          "xaxis": {
           "automargin": true,
           "gridcolor": "white",
           "linecolor": "white",
           "ticks": "",
           "title": {
            "standoff": 15
           },
           "zerolinecolor": "white",
           "zerolinewidth": 2
          },
          "yaxis": {
           "automargin": true,
           "gridcolor": "white",
           "linecolor": "white",
           "ticks": "",
           "title": {
            "standoff": 15
           },
           "zerolinecolor": "white",
           "zerolinewidth": 2
          }
         }
        },
        "title": {
         "text": "Gün Bazında Yoğunluk"
        },
        "xaxis": {
         "anchor": "y",
         "domain": [
          0,
          1
         ],
         "title": {
          "text": "Tarih"
         }
        },
        "yaxis": {
         "anchor": "x",
         "domain": [
          0,
          1
         ],
         "title": {
          "text": "Giriş Sayısı"
         }
        }
       }
      }
     },
     "metadata": {},
     "output_type": "display_data"
    }
   ],
   "source": [
    "fig = px.line(daily_counts, x='Tarih', y='Giriş Sayısı',\n",
    "              title='Gün Bazında Yoğunluk',text=\"Tarih\")\n",
    "fig.show()"
   ]
  },
  {
   "cell_type": "code",
   "execution_count": null,
   "metadata": {},
   "outputs": [
    {
     "data": {
      "application/vnd.plotly.v1+json": {
       "config": {
        "plotlyServerURL": "https://plot.ly"
       },
       "data": [
        {
         "alignmentgroup": "True",
         "bingroup": "x",
         "histfunc": "sum",
         "hovertemplate": "Tarih=%{x}<br>sum of Giriş Sayısı=%{y}<extra></extra>",
         "legendgroup": "",
         "marker": {
          "color": "#636efa",
          "pattern": {
           "shape": ""
          }
         },
         "name": "",
         "nbinsx": 100,
         "offsetgroup": "",
         "orientation": "v",
         "showlegend": false,
         "type": "histogram",
         "x": [
          "2024-08-30",
          "2024-08-31",
          "2024-09-01",
          "2024-09-02",
          "2024-09-03",
          "2024-09-04",
          "2024-09-05",
          "2024-09-07",
          "2024-09-08",
          "2024-09-11",
          "2024-09-13",
          "2024-09-14",
          "2024-09-15",
          "2024-09-17",
          "2024-09-18",
          "2024-09-24",
          "2024-09-25",
          "2024-10-01",
          "2024-10-02",
          "2024-10-03",
          "2024-10-04",
          "2024-10-05",
          "2024-10-06",
          "2024-10-07",
          "2024-10-08",
          "2024-10-09",
          "2024-10-10",
          "2024-10-11",
          "2024-10-12",
          "2024-10-13",
          "2024-10-14",
          "2024-10-15",
          "2024-10-18",
          "2024-10-19",
          "2024-10-22",
          "2024-11-05",
          "2024-11-12",
          "2024-11-13",
          "2024-11-21",
          "2024-12-14"
         ],
         "xaxis": "x",
         "y": [
          2,
          65,
          22,
          10,
          16,
          3,
          1,
          13,
          31,
          1,
          4,
          1,
          1,
          2,
          1,
          2,
          1,
          89,
          20,
          52,
          7,
          1,
          6,
          4,
          11,
          6,
          17,
          4,
          2,
          1,
          13,
          2,
          2,
          1,
          3,
          1,
          1,
          1,
          1,
          1
         ],
         "yaxis": "y"
        }
       ],
       "layout": {
        "barmode": "relative",
        "legend": {
         "tracegroupgap": 0
        },
        "template": {
         "data": {
          "bar": [
           {
            "error_x": {
             "color": "#2a3f5f"
            },
            "error_y": {
             "color": "#2a3f5f"
            },
            "marker": {
             "line": {
              "color": "#E5ECF6",
              "width": 0.5
             },
             "pattern": {
              "fillmode": "overlay",
              "size": 10,
              "solidity": 0.2
             }
            },
            "type": "bar"
           }
          ],
          "barpolar": [
           {
            "marker": {
             "line": {
              "color": "#E5ECF6",
              "width": 0.5
             },
             "pattern": {
              "fillmode": "overlay",
              "size": 10,
              "solidity": 0.2
             }
            },
            "type": "barpolar"
           }
          ],
          "carpet": [
           {
            "aaxis": {
             "endlinecolor": "#2a3f5f",
             "gridcolor": "white",
             "linecolor": "white",
             "minorgridcolor": "white",
             "startlinecolor": "#2a3f5f"
            },
            "baxis": {
             "endlinecolor": "#2a3f5f",
             "gridcolor": "white",
             "linecolor": "white",
             "minorgridcolor": "white",
             "startlinecolor": "#2a3f5f"
            },
            "type": "carpet"
           }
          ],
          "choropleth": [
           {
            "colorbar": {
             "outlinewidth": 0,
             "ticks": ""
            },
            "type": "choropleth"
           }
          ],
          "contour": [
           {
            "colorbar": {
             "outlinewidth": 0,
             "ticks": ""
            },
            "colorscale": [
             [
              0,
              "#0d0887"
             ],
             [
              0.1111111111111111,
              "#46039f"
             ],
             [
              0.2222222222222222,
              "#7201a8"
             ],
             [
              0.3333333333333333,
              "#9c179e"
             ],
             [
              0.4444444444444444,
              "#bd3786"
             ],
             [
              0.5555555555555556,
              "#d8576b"
             ],
             [
              0.6666666666666666,
              "#ed7953"
             ],
             [
              0.7777777777777778,
              "#fb9f3a"
             ],
             [
              0.8888888888888888,
              "#fdca26"
             ],
             [
              1,
              "#f0f921"
             ]
            ],
            "type": "contour"
           }
          ],
          "contourcarpet": [
           {
            "colorbar": {
             "outlinewidth": 0,
             "ticks": ""
            },
            "type": "contourcarpet"
           }
          ],
          "heatmap": [
           {
            "colorbar": {
             "outlinewidth": 0,
             "ticks": ""
            },
            "colorscale": [
             [
              0,
              "#0d0887"
             ],
             [
              0.1111111111111111,
              "#46039f"
             ],
             [
              0.2222222222222222,
              "#7201a8"
             ],
             [
              0.3333333333333333,
              "#9c179e"
             ],
             [
              0.4444444444444444,
              "#bd3786"
             ],
             [
              0.5555555555555556,
              "#d8576b"
             ],
             [
              0.6666666666666666,
              "#ed7953"
             ],
             [
              0.7777777777777778,
              "#fb9f3a"
             ],
             [
              0.8888888888888888,
              "#fdca26"
             ],
             [
              1,
              "#f0f921"
             ]
            ],
            "type": "heatmap"
           }
          ],
          "heatmapgl": [
           {
            "colorbar": {
             "outlinewidth": 0,
             "ticks": ""
            },
            "colorscale": [
             [
              0,
              "#0d0887"
             ],
             [
              0.1111111111111111,
              "#46039f"
             ],
             [
              0.2222222222222222,
              "#7201a8"
             ],
             [
              0.3333333333333333,
              "#9c179e"
             ],
             [
              0.4444444444444444,
              "#bd3786"
             ],
             [
              0.5555555555555556,
              "#d8576b"
             ],
             [
              0.6666666666666666,
              "#ed7953"
             ],
             [
              0.7777777777777778,
              "#fb9f3a"
             ],
             [
              0.8888888888888888,
              "#fdca26"
             ],
             [
              1,
              "#f0f921"
             ]
            ],
            "type": "heatmapgl"
           }
          ],
          "histogram": [
           {
            "marker": {
             "pattern": {
              "fillmode": "overlay",
              "size": 10,
              "solidity": 0.2
             }
            },
            "type": "histogram"
           }
          ],
          "histogram2d": [
           {
            "colorbar": {
             "outlinewidth": 0,
             "ticks": ""
            },
            "colorscale": [
             [
              0,
              "#0d0887"
             ],
             [
              0.1111111111111111,
              "#46039f"
             ],
             [
              0.2222222222222222,
              "#7201a8"
             ],
             [
              0.3333333333333333,
              "#9c179e"
             ],
             [
              0.4444444444444444,
              "#bd3786"
             ],
             [
              0.5555555555555556,
              "#d8576b"
             ],
             [
              0.6666666666666666,
              "#ed7953"
             ],
             [
              0.7777777777777778,
              "#fb9f3a"
             ],
             [
              0.8888888888888888,
              "#fdca26"
             ],
             [
              1,
              "#f0f921"
             ]
            ],
            "type": "histogram2d"
           }
          ],
          "histogram2dcontour": [
           {
            "colorbar": {
             "outlinewidth": 0,
             "ticks": ""
            },
            "colorscale": [
             [
              0,
              "#0d0887"
             ],
             [
              0.1111111111111111,
              "#46039f"
             ],
             [
              0.2222222222222222,
              "#7201a8"
             ],
             [
              0.3333333333333333,
              "#9c179e"
             ],
             [
              0.4444444444444444,
              "#bd3786"
             ],
             [
              0.5555555555555556,
              "#d8576b"
             ],
             [
              0.6666666666666666,
              "#ed7953"
             ],
             [
              0.7777777777777778,
              "#fb9f3a"
             ],
             [
              0.8888888888888888,
              "#fdca26"
             ],
             [
              1,
              "#f0f921"
             ]
            ],
            "type": "histogram2dcontour"
           }
          ],
          "mesh3d": [
           {
            "colorbar": {
             "outlinewidth": 0,
             "ticks": ""
            },
            "type": "mesh3d"
           }
          ],
          "parcoords": [
           {
            "line": {
             "colorbar": {
              "outlinewidth": 0,
              "ticks": ""
             }
            },
            "type": "parcoords"
           }
          ],
          "pie": [
           {
            "automargin": true,
            "type": "pie"
           }
          ],
          "scatter": [
           {
            "fillpattern": {
             "fillmode": "overlay",
             "size": 10,
             "solidity": 0.2
            },
            "type": "scatter"
           }
          ],
          "scatter3d": [
           {
            "line": {
             "colorbar": {
              "outlinewidth": 0,
              "ticks": ""
             }
            },
            "marker": {
             "colorbar": {
              "outlinewidth": 0,
              "ticks": ""
             }
            },
            "type": "scatter3d"
           }
          ],
          "scattercarpet": [
           {
            "marker": {
             "colorbar": {
              "outlinewidth": 0,
              "ticks": ""
             }
            },
            "type": "scattercarpet"
           }
          ],
          "scattergeo": [
           {
            "marker": {
             "colorbar": {
              "outlinewidth": 0,
              "ticks": ""
             }
            },
            "type": "scattergeo"
           }
          ],
          "scattergl": [
           {
            "marker": {
             "colorbar": {
              "outlinewidth": 0,
              "ticks": ""
             }
            },
            "type": "scattergl"
           }
          ],
          "scattermapbox": [
           {
            "marker": {
             "colorbar": {
              "outlinewidth": 0,
              "ticks": ""
             }
            },
            "type": "scattermapbox"
           }
          ],
          "scatterpolar": [
           {
            "marker": {
             "colorbar": {
              "outlinewidth": 0,
              "ticks": ""
             }
            },
            "type": "scatterpolar"
           }
          ],
          "scatterpolargl": [
           {
            "marker": {
             "colorbar": {
              "outlinewidth": 0,
              "ticks": ""
             }
            },
            "type": "scatterpolargl"
           }
          ],
          "scatterternary": [
           {
            "marker": {
             "colorbar": {
              "outlinewidth": 0,
              "ticks": ""
             }
            },
            "type": "scatterternary"
           }
          ],
          "surface": [
           {
            "colorbar": {
             "outlinewidth": 0,
             "ticks": ""
            },
            "colorscale": [
             [
              0,
              "#0d0887"
             ],
             [
              0.1111111111111111,
              "#46039f"
             ],
             [
              0.2222222222222222,
              "#7201a8"
             ],
             [
              0.3333333333333333,
              "#9c179e"
             ],
             [
              0.4444444444444444,
              "#bd3786"
             ],
             [
              0.5555555555555556,
              "#d8576b"
             ],
             [
              0.6666666666666666,
              "#ed7953"
             ],
             [
              0.7777777777777778,
              "#fb9f3a"
             ],
             [
              0.8888888888888888,
              "#fdca26"
             ],
             [
              1,
              "#f0f921"
             ]
            ],
            "type": "surface"
           }
          ],
          "table": [
           {
            "cells": {
             "fill": {
              "color": "#EBF0F8"
             },
             "line": {
              "color": "white"
             }
            },
            "header": {
             "fill": {
              "color": "#C8D4E3"
             },
             "line": {
              "color": "white"
             }
            },
            "type": "table"
           }
          ]
         },
         "layout": {
          "annotationdefaults": {
           "arrowcolor": "#2a3f5f",
           "arrowhead": 0,
           "arrowwidth": 1
          },
          "autotypenumbers": "strict",
          "coloraxis": {
           "colorbar": {
            "outlinewidth": 0,
            "ticks": ""
           }
          },
          "colorscale": {
           "diverging": [
            [
             0,
             "#8e0152"
            ],
            [
             0.1,
             "#c51b7d"
            ],
            [
             0.2,
             "#de77ae"
            ],
            [
             0.3,
             "#f1b6da"
            ],
            [
             0.4,
             "#fde0ef"
            ],
            [
             0.5,
             "#f7f7f7"
            ],
            [
             0.6,
             "#e6f5d0"
            ],
            [
             0.7,
             "#b8e186"
            ],
            [
             0.8,
             "#7fbc41"
            ],
            [
             0.9,
             "#4d9221"
            ],
            [
             1,
             "#276419"
            ]
           ],
           "sequential": [
            [
             0,
             "#0d0887"
            ],
            [
             0.1111111111111111,
             "#46039f"
            ],
            [
             0.2222222222222222,
             "#7201a8"
            ],
            [
             0.3333333333333333,
             "#9c179e"
            ],
            [
             0.4444444444444444,
             "#bd3786"
            ],
            [
             0.5555555555555556,
             "#d8576b"
            ],
            [
             0.6666666666666666,
             "#ed7953"
            ],
            [
             0.7777777777777778,
             "#fb9f3a"
            ],
            [
             0.8888888888888888,
             "#fdca26"
            ],
            [
             1,
             "#f0f921"
            ]
           ],
           "sequentialminus": [
            [
             0,
             "#0d0887"
            ],
            [
             0.1111111111111111,
             "#46039f"
            ],
            [
             0.2222222222222222,
             "#7201a8"
            ],
            [
             0.3333333333333333,
             "#9c179e"
            ],
            [
             0.4444444444444444,
             "#bd3786"
            ],
            [
             0.5555555555555556,
             "#d8576b"
            ],
            [
             0.6666666666666666,
             "#ed7953"
            ],
            [
             0.7777777777777778,
             "#fb9f3a"
            ],
            [
             0.8888888888888888,
             "#fdca26"
            ],
            [
             1,
             "#f0f921"
            ]
           ]
          },
          "colorway": [
           "#636efa",
           "#EF553B",
           "#00cc96",
           "#ab63fa",
           "#FFA15A",
           "#19d3f3",
           "#FF6692",
           "#B6E880",
           "#FF97FF",
           "#FECB52"
          ],
          "font": {
           "color": "#2a3f5f"
          },
          "geo": {
           "bgcolor": "white",
           "lakecolor": "white",
           "landcolor": "#E5ECF6",
           "showlakes": true,
           "showland": true,
           "subunitcolor": "white"
          },
          "hoverlabel": {
           "align": "left"
          },
          "hovermode": "closest",
          "mapbox": {
           "style": "light"
          },
          "paper_bgcolor": "white",
          "plot_bgcolor": "#E5ECF6",
          "polar": {
           "angularaxis": {
            "gridcolor": "white",
            "linecolor": "white",
            "ticks": ""
           },
           "bgcolor": "#E5ECF6",
           "radialaxis": {
            "gridcolor": "white",
            "linecolor": "white",
            "ticks": ""
           }
          },
          "scene": {
           "xaxis": {
            "backgroundcolor": "#E5ECF6",
            "gridcolor": "white",
            "gridwidth": 2,
            "linecolor": "white",
            "showbackground": true,
            "ticks": "",
            "zerolinecolor": "white"
           },
           "yaxis": {
            "backgroundcolor": "#E5ECF6",
            "gridcolor": "white",
            "gridwidth": 2,
            "linecolor": "white",
            "showbackground": true,
            "ticks": "",
            "zerolinecolor": "white"
           },
           "zaxis": {
            "backgroundcolor": "#E5ECF6",
            "gridcolor": "white",
            "gridwidth": 2,
            "linecolor": "white",
            "showbackground": true,
            "ticks": "",
            "zerolinecolor": "white"
           }
          },
          "shapedefaults": {
           "line": {
            "color": "#2a3f5f"
           }
          },
          "ternary": {
           "aaxis": {
            "gridcolor": "white",
            "linecolor": "white",
            "ticks": ""
           },
           "baxis": {
            "gridcolor": "white",
            "linecolor": "white",
            "ticks": ""
           },
           "bgcolor": "#E5ECF6",
           "caxis": {
            "gridcolor": "white",
            "linecolor": "white",
            "ticks": ""
           }
          },
          "title": {
           "x": 0.05
          },
          "xaxis": {
           "automargin": true,
           "gridcolor": "white",
           "linecolor": "white",
           "ticks": "",
           "title": {
            "standoff": 15
           },
           "zerolinecolor": "white",
           "zerolinewidth": 2
          },
          "yaxis": {
           "automargin": true,
           "gridcolor": "white",
           "linecolor": "white",
           "ticks": "",
           "title": {
            "standoff": 15
           },
           "zerolinecolor": "white",
           "zerolinewidth": 2
          }
         }
        },
        "title": {
         "text": "Gün Bazında Yoğunluk"
        },
        "xaxis": {
         "anchor": "y",
         "domain": [
          0,
          1
         ],
         "title": {
          "text": "Tarih"
         }
        },
        "yaxis": {
         "anchor": "x",
         "domain": [
          0,
          1
         ],
         "title": {
          "text": "sum of Giriş Sayısı"
         }
        }
       }
      }
     },
     "metadata": {},
     "output_type": "display_data"
    }
   ],
   "source": [
    "\n",
    "# Gruplayarak her gün kaç kayıt olduğunu hesapla\n",
    "\n",
    "# Plotly ile çizim\n",
    "fig = px.histogram(daily_counts, x='Tarih', y='Giriş Sayısı',\n",
    "              title='Gün Bazında Yoğunluk',nbins=100)\n",
    "fig.show()\n"
   ]
  },
  {
   "cell_type": "code",
   "execution_count": null,
   "metadata": {},
   "outputs": [
    {
     "data": {
      "application/vnd.plotly.v1+json": {
       "config": {
        "plotlyServerURL": "https://plot.ly"
       },
       "data": [
        {
         "domain": {
          "x": [
           0,
           1
          ],
          "y": [
           0,
           1
          ]
         },
         "hovertemplate": "Bölümün:=%{label}<br>count=%{value}<extra></extra>",
         "labels": [
          "Yönetim Bilişim Sistemleri",
          "Bilişim Sistemleri Mühendisliği",
          "Bilgisayar Mühendisliği",
          "Bilgisayar Programcılığı",
          "Endüstri Mühendisliği",
          "Gemi İnşaatı ve Gemi Makineleri Mühendisliği",
          "Elektrik-Elektronik Mühendisliği",
          "Gemi Makineleri İşletme Mühendisliği",
          "Makine Mühendisliği",
          "Ekonomi ve Finans",
          "Deniz Ulaştırma İşletme Mühendisliği",
          "Hukuk",
          "Denizcilik İşletmeleri Yönetimi",
          "Uluslararası Ticaret ve İşletmecilik",
          "Lojistik Yönetimi",
          "Mekatronik Mühendisliği",
          "Deniz ve Liman İşletmeciliği",
          "Yat ve Marina İşletmeciliği",
          "Gemi Makineleri İşletmeciliği",
          "Aşçılık",
          "",
          "yücel",
          "dmyo broker"
         ],
         "legendgroup": "",
         "name": "",
         "showlegend": true,
         "type": "pie",
         "values": [
          99,
          69,
          54,
          53,
          36,
          19,
          17,
          11,
          11,
          11,
          9,
          8,
          6,
          5,
          4,
          3,
          2,
          1,
          1,
          1,
          1,
          1,
          1
         ]
        }
       ],
       "layout": {
        "legend": {
         "tracegroupgap": 0
        },
        "margin": {
         "t": 60
        },
        "template": {
         "data": {
          "bar": [
           {
            "error_x": {
             "color": "#2a3f5f"
            },
            "error_y": {
             "color": "#2a3f5f"
            },
            "marker": {
             "line": {
              "color": "#E5ECF6",
              "width": 0.5
             },
             "pattern": {
              "fillmode": "overlay",
              "size": 10,
              "solidity": 0.2
             }
            },
            "type": "bar"
           }
          ],
          "barpolar": [
           {
            "marker": {
             "line": {
              "color": "#E5ECF6",
              "width": 0.5
             },
             "pattern": {
              "fillmode": "overlay",
              "size": 10,
              "solidity": 0.2
             }
            },
            "type": "barpolar"
           }
          ],
          "carpet": [
           {
            "aaxis": {
             "endlinecolor": "#2a3f5f",
             "gridcolor": "white",
             "linecolor": "white",
             "minorgridcolor": "white",
             "startlinecolor": "#2a3f5f"
            },
            "baxis": {
             "endlinecolor": "#2a3f5f",
             "gridcolor": "white",
             "linecolor": "white",
             "minorgridcolor": "white",
             "startlinecolor": "#2a3f5f"
            },
            "type": "carpet"
           }
          ],
          "choropleth": [
           {
            "colorbar": {
             "outlinewidth": 0,
             "ticks": ""
            },
            "type": "choropleth"
           }
          ],
          "contour": [
           {
            "colorbar": {
             "outlinewidth": 0,
             "ticks": ""
            },
            "colorscale": [
             [
              0,
              "#0d0887"
             ],
             [
              0.1111111111111111,
              "#46039f"
             ],
             [
              0.2222222222222222,
              "#7201a8"
             ],
             [
              0.3333333333333333,
              "#9c179e"
             ],
             [
              0.4444444444444444,
              "#bd3786"
             ],
             [
              0.5555555555555556,
              "#d8576b"
             ],
             [
              0.6666666666666666,
              "#ed7953"
             ],
             [
              0.7777777777777778,
              "#fb9f3a"
             ],
             [
              0.8888888888888888,
              "#fdca26"
             ],
             [
              1,
              "#f0f921"
             ]
            ],
            "type": "contour"
           }
          ],
          "contourcarpet": [
           {
            "colorbar": {
             "outlinewidth": 0,
             "ticks": ""
            },
            "type": "contourcarpet"
           }
          ],
          "heatmap": [
           {
            "colorbar": {
             "outlinewidth": 0,
             "ticks": ""
            },
            "colorscale": [
             [
              0,
              "#0d0887"
             ],
             [
              0.1111111111111111,
              "#46039f"
             ],
             [
              0.2222222222222222,
              "#7201a8"
             ],
             [
              0.3333333333333333,
              "#9c179e"
             ],
             [
              0.4444444444444444,
              "#bd3786"
             ],
             [
              0.5555555555555556,
              "#d8576b"
             ],
             [
              0.6666666666666666,
              "#ed7953"
             ],
             [
              0.7777777777777778,
              "#fb9f3a"
             ],
             [
              0.8888888888888888,
              "#fdca26"
             ],
             [
              1,
              "#f0f921"
             ]
            ],
            "type": "heatmap"
           }
          ],
          "heatmapgl": [
           {
            "colorbar": {
             "outlinewidth": 0,
             "ticks": ""
            },
            "colorscale": [
             [
              0,
              "#0d0887"
             ],
             [
              0.1111111111111111,
              "#46039f"
             ],
             [
              0.2222222222222222,
              "#7201a8"
             ],
             [
              0.3333333333333333,
              "#9c179e"
             ],
             [
              0.4444444444444444,
              "#bd3786"
             ],
             [
              0.5555555555555556,
              "#d8576b"
             ],
             [
              0.6666666666666666,
              "#ed7953"
             ],
             [
              0.7777777777777778,
              "#fb9f3a"
             ],
             [
              0.8888888888888888,
              "#fdca26"
             ],
             [
              1,
              "#f0f921"
             ]
            ],
            "type": "heatmapgl"
           }
          ],
          "histogram": [
           {
            "marker": {
             "pattern": {
              "fillmode": "overlay",
              "size": 10,
              "solidity": 0.2
             }
            },
            "type": "histogram"
           }
          ],
          "histogram2d": [
           {
            "colorbar": {
             "outlinewidth": 0,
             "ticks": ""
            },
            "colorscale": [
             [
              0,
              "#0d0887"
             ],
             [
              0.1111111111111111,
              "#46039f"
             ],
             [
              0.2222222222222222,
              "#7201a8"
             ],
             [
              0.3333333333333333,
              "#9c179e"
             ],
             [
              0.4444444444444444,
              "#bd3786"
             ],
             [
              0.5555555555555556,
              "#d8576b"
             ],
             [
              0.6666666666666666,
              "#ed7953"
             ],
             [
              0.7777777777777778,
              "#fb9f3a"
             ],
             [
              0.8888888888888888,
              "#fdca26"
             ],
             [
              1,
              "#f0f921"
             ]
            ],
            "type": "histogram2d"
           }
          ],
          "histogram2dcontour": [
           {
            "colorbar": {
             "outlinewidth": 0,
             "ticks": ""
            },
            "colorscale": [
             [
              0,
              "#0d0887"
             ],
             [
              0.1111111111111111,
              "#46039f"
             ],
             [
              0.2222222222222222,
              "#7201a8"
             ],
             [
              0.3333333333333333,
              "#9c179e"
             ],
             [
              0.4444444444444444,
              "#bd3786"
             ],
             [
              0.5555555555555556,
              "#d8576b"
             ],
             [
              0.6666666666666666,
              "#ed7953"
             ],
             [
              0.7777777777777778,
              "#fb9f3a"
             ],
             [
              0.8888888888888888,
              "#fdca26"
             ],
             [
              1,
              "#f0f921"
             ]
            ],
            "type": "histogram2dcontour"
           }
          ],
          "mesh3d": [
           {
            "colorbar": {
             "outlinewidth": 0,
             "ticks": ""
            },
            "type": "mesh3d"
           }
          ],
          "parcoords": [
           {
            "line": {
             "colorbar": {
              "outlinewidth": 0,
              "ticks": ""
             }
            },
            "type": "parcoords"
           }
          ],
          "pie": [
           {
            "automargin": true,
            "type": "pie"
           }
          ],
          "scatter": [
           {
            "fillpattern": {
             "fillmode": "overlay",
             "size": 10,
             "solidity": 0.2
            },
            "type": "scatter"
           }
          ],
          "scatter3d": [
           {
            "line": {
             "colorbar": {
              "outlinewidth": 0,
              "ticks": ""
             }
            },
            "marker": {
             "colorbar": {
              "outlinewidth": 0,
              "ticks": ""
             }
            },
            "type": "scatter3d"
           }
          ],
          "scattercarpet": [
           {
            "marker": {
             "colorbar": {
              "outlinewidth": 0,
              "ticks": ""
             }
            },
            "type": "scattercarpet"
           }
          ],
          "scattergeo": [
           {
            "marker": {
             "colorbar": {
              "outlinewidth": 0,
              "ticks": ""
             }
            },
            "type": "scattergeo"
           }
          ],
          "scattergl": [
           {
            "marker": {
             "colorbar": {
              "outlinewidth": 0,
              "ticks": ""
             }
            },
            "type": "scattergl"
           }
          ],
          "scattermapbox": [
           {
            "marker": {
             "colorbar": {
              "outlinewidth": 0,
              "ticks": ""
             }
            },
            "type": "scattermapbox"
           }
          ],
          "scatterpolar": [
           {
            "marker": {
             "colorbar": {
              "outlinewidth": 0,
              "ticks": ""
             }
            },
            "type": "scatterpolar"
           }
          ],
          "scatterpolargl": [
           {
            "marker": {
             "colorbar": {
              "outlinewidth": 0,
              "ticks": ""
             }
            },
            "type": "scatterpolargl"
           }
          ],
          "scatterternary": [
           {
            "marker": {
             "colorbar": {
              "outlinewidth": 0,
              "ticks": ""
             }
            },
            "type": "scatterternary"
           }
          ],
          "surface": [
           {
            "colorbar": {
             "outlinewidth": 0,
             "ticks": ""
            },
            "colorscale": [
             [
              0,
              "#0d0887"
             ],
             [
              0.1111111111111111,
              "#46039f"
             ],
             [
              0.2222222222222222,
              "#7201a8"
             ],
             [
              0.3333333333333333,
              "#9c179e"
             ],
             [
              0.4444444444444444,
              "#bd3786"
             ],
             [
              0.5555555555555556,
              "#d8576b"
             ],
             [
              0.6666666666666666,
              "#ed7953"
             ],
             [
              0.7777777777777778,
              "#fb9f3a"
             ],
             [
              0.8888888888888888,
              "#fdca26"
             ],
             [
              1,
              "#f0f921"
             ]
            ],
            "type": "surface"
           }
          ],
          "table": [
           {
            "cells": {
             "fill": {
              "color": "#EBF0F8"
             },
             "line": {
              "color": "white"
             }
            },
            "header": {
             "fill": {
              "color": "#C8D4E3"
             },
             "line": {
              "color": "white"
             }
            },
            "type": "table"
           }
          ]
         },
         "layout": {
          "annotationdefaults": {
           "arrowcolor": "#2a3f5f",
           "arrowhead": 0,
           "arrowwidth": 1
          },
          "autotypenumbers": "strict",
          "coloraxis": {
           "colorbar": {
            "outlinewidth": 0,
            "ticks": ""
           }
          },
          "colorscale": {
           "diverging": [
            [
             0,
             "#8e0152"
            ],
            [
             0.1,
             "#c51b7d"
            ],
            [
             0.2,
             "#de77ae"
            ],
            [
             0.3,
             "#f1b6da"
            ],
            [
             0.4,
             "#fde0ef"
            ],
            [
             0.5,
             "#f7f7f7"
            ],
            [
             0.6,
             "#e6f5d0"
            ],
            [
             0.7,
             "#b8e186"
            ],
            [
             0.8,
             "#7fbc41"
            ],
            [
             0.9,
             "#4d9221"
            ],
            [
             1,
             "#276419"
            ]
           ],
           "sequential": [
            [
             0,
             "#0d0887"
            ],
            [
             0.1111111111111111,
             "#46039f"
            ],
            [
             0.2222222222222222,
             "#7201a8"
            ],
            [
             0.3333333333333333,
             "#9c179e"
            ],
            [
             0.4444444444444444,
             "#bd3786"
            ],
            [
             0.5555555555555556,
             "#d8576b"
            ],
            [
             0.6666666666666666,
             "#ed7953"
            ],
            [
             0.7777777777777778,
             "#fb9f3a"
            ],
            [
             0.8888888888888888,
             "#fdca26"
            ],
            [
             1,
             "#f0f921"
            ]
           ],
           "sequentialminus": [
            [
             0,
             "#0d0887"
            ],
            [
             0.1111111111111111,
             "#46039f"
            ],
            [
             0.2222222222222222,
             "#7201a8"
            ],
            [
             0.3333333333333333,
             "#9c179e"
            ],
            [
             0.4444444444444444,
             "#bd3786"
            ],
            [
             0.5555555555555556,
             "#d8576b"
            ],
            [
             0.6666666666666666,
             "#ed7953"
            ],
            [
             0.7777777777777778,
             "#fb9f3a"
            ],
            [
             0.8888888888888888,
             "#fdca26"
            ],
            [
             1,
             "#f0f921"
            ]
           ]
          },
          "colorway": [
           "#636efa",
           "#EF553B",
           "#00cc96",
           "#ab63fa",
           "#FFA15A",
           "#19d3f3",
           "#FF6692",
           "#B6E880",
           "#FF97FF",
           "#FECB52"
          ],
          "font": {
           "color": "#2a3f5f"
          },
          "geo": {
           "bgcolor": "white",
           "lakecolor": "white",
           "landcolor": "#E5ECF6",
           "showlakes": true,
           "showland": true,
           "subunitcolor": "white"
          },
          "hoverlabel": {
           "align": "left"
          },
          "hovermode": "closest",
          "mapbox": {
           "style": "light"
          },
          "paper_bgcolor": "white",
          "plot_bgcolor": "#E5ECF6",
          "polar": {
           "angularaxis": {
            "gridcolor": "white",
            "linecolor": "white",
            "ticks": ""
           },
           "bgcolor": "#E5ECF6",
           "radialaxis": {
            "gridcolor": "white",
            "linecolor": "white",
            "ticks": ""
           }
          },
          "scene": {
           "xaxis": {
            "backgroundcolor": "#E5ECF6",
            "gridcolor": "white",
            "gridwidth": 2,
            "linecolor": "white",
            "showbackground": true,
            "ticks": "",
            "zerolinecolor": "white"
           },
           "yaxis": {
            "backgroundcolor": "#E5ECF6",
            "gridcolor": "white",
            "gridwidth": 2,
            "linecolor": "white",
            "showbackground": true,
            "ticks": "",
            "zerolinecolor": "white"
           },
           "zaxis": {
            "backgroundcolor": "#E5ECF6",
            "gridcolor": "white",
            "gridwidth": 2,
            "linecolor": "white",
            "showbackground": true,
            "ticks": "",
            "zerolinecolor": "white"
           }
          },
          "shapedefaults": {
           "line": {
            "color": "#2a3f5f"
           }
          },
          "ternary": {
           "aaxis": {
            "gridcolor": "white",
            "linecolor": "white",
            "ticks": ""
           },
           "baxis": {
            "gridcolor": "white",
            "linecolor": "white",
            "ticks": ""
           },
           "bgcolor": "#E5ECF6",
           "caxis": {
            "gridcolor": "white",
            "linecolor": "white",
            "ticks": ""
           }
          },
          "title": {
           "x": 0.05
          },
          "xaxis": {
           "automargin": true,
           "gridcolor": "white",
           "linecolor": "white",
           "ticks": "",
           "title": {
            "standoff": 15
           },
           "zerolinecolor": "white",
           "zerolinewidth": 2
          },
          "yaxis": {
           "automargin": true,
           "gridcolor": "white",
           "linecolor": "white",
           "ticks": "",
           "title": {
            "standoff": 15
           },
           "zerolinecolor": "white",
           "zerolinewidth": 2
          }
         }
        }
       }
      }
     },
     "metadata": {},
     "output_type": "display_data"
    }
   ],
   "source": [
    "px.pie(bölümün,values=bölümün[\"count\"],names=\"Bölümün:\")"
   ]
  },
  {
   "cell_type": "markdown",
   "metadata": {},
   "source": [
    "### Tüm kod hali"
   ]
  },
  {
   "cell_type": "code",
   "execution_count": 1,
   "metadata": {},
   "outputs": [
    {
     "name": "stderr",
     "output_type": "stream",
     "text": [
      "C:\\Users\\salih\\AppData\\Local\\Packages\\PythonSoftwareFoundation.Python.3.11_qbz5n2kfra8p0\\LocalCache\\local-packages\\Python311\\site-packages\\fuzzywuzzy\\fuzz.py:11: UserWarning: Using slow pure-python SequenceMatcher. Install python-Levenshtein to remove this warning\n",
      "  warnings.warn('Using slow pure-python SequenceMatcher. Install python-Levenshtein to remove this warning')\n"
     ]
    },
    {
     "name": "stdout",
     "output_type": "stream",
     "text": [
      "\n",
      "\n",
      "\n",
      "\n",
      "\n",
      "\n",
      "\n",
      "\n",
      "\n",
      "\n",
      "\n",
      "\n",
      "\n",
      "\n",
      "\n",
      "\n",
      "\n",
      "\n",
      "\n",
      "\n",
      "\n"
     ]
    },
    {
     "name": "stderr",
     "output_type": "stream",
     "text": [
      "WARNING:root:Applied processor reduces input query to empty string, all comparisons will have score 0. [Query: '']\n"
     ]
    },
    {
     "name": "stdout",
     "output_type": "stream",
     "text": [
      "\n",
      "\n",
      "\n",
      "\n",
      "\n",
      "\n",
      "\n",
      "\n",
      "\n",
      "\n"
     ]
    }
   ],
   "source": [
    "import pandas as pd\n",
    "from fuzzywuzzy import fuzz\n",
    "from fuzzywuzzy import process\n",
    "data=pd.read_excel(\"genelüyeformu.xlsx\")\n",
    "data=data.drop([\"Id\",\"KVKK Metnini Onaylıyor musun?\\n\"],axis=1)\n",
    "data[\"Bölümün:\"].fillna(\"\", inplace=True)  # NaN değerleri boş stringe çevirir\n",
    "data[\"Bölümün:\"] = data[\"Bölümün:\"].astype(str)  # Tüm sütunu string tipe dönüştürür\n",
    "data[\"Bölümün:\"]=data[\"Bölümün:\"].str.strip()\n",
    "data[\"Bölümün:\"]=data[\"Bölümün:\"].str.lower()\n",
    "departments = [\n",
    "    \"Aşçılık\",\n",
    "    \"Bilişim Sistemleri Mühendisliği\",\n",
    "    \"Bilgisayar Mühendisliği\",\n",
    "    \"Bilgisayar Programcılığı\",\n",
    "    \"Deniz Ulaştırma İşletme Mühendisliği\",\n",
    "    \"Deniz ve Liman İşletmeciliği\",\n",
    "    \"Denizcilik İşletmeleri Yönetimi\",\n",
    "    \"Ekonomi ve Finans\",\n",
    "    \"Elektrik-Elektronik Mühendisliği\",\n",
    "    \"Endüstri Mühendisliği\",\n",
    "    \"Gemi İnşaatı ve Gemi Makineleri Mühendisliği\",\n",
    "    \"Gemi Makineleri İşletme Mühendisliği\",\n",
    "    \"Gemi Makineleri İşletmeciliği\",\n",
    "    \"Hukuk\",\n",
    "    \"Lojistik Yönetimi\",\n",
    "    \"Makine Mühendisliği\",\n",
    "    \"Mekatronik Mühendisliği\",\n",
    "    \"Uluslararası Ticaret ve İşletmecilik\",\n",
    "    \"Yat ve Marina İşletmeciliği\",\n",
    "    \"Yönetim Bilişim Sistemleri\"\n",
    "    \n",
    "]\n",
    "\n",
    "# Her satırın \"Bölümün:\" değerine göre fuzzy matching işlemi\n",
    "for index, row in data.iterrows():\n",
    "    bolum = row[\"Bölümün:\"]\n",
    "    \n",
    "    # FuzzyWuzzy ile en iyi eşleşmeyi (match) ve skorunu (score) alıyoruz\n",
    "    match, score = process.extractOne(bolum, departments, scorer=fuzz.token_sort_ratio)\n",
    "    \n",
    "    # Eğer skor %80 ve üzerindeyse DataFrame değerini eşleşen isimle değiştiriyoruz\n",
    "    if score >= 40:\n",
    "        data.at[index, \"Bölümün:\"] = match  # veya df.loc[index, \"Bölümün:\"] = match\n",
    "    else :\n",
    "        print(\"\")\n",
    "\n",
    "abbreviation_map = {\n",
    "    \"duim\":  \"Deniz Ulaştırma İşletme Mühendisliği\",\n",
    "    \"bsm\":   \"Bilişim Sistemleri Mühendisliği\",\n",
    "    \"ybs\":   \"Yönetim Bilişim Sistemleri\",\n",
    "    \"bsm3\":  \"Bilişim Sistemleri Mühendisliği\",  # 'bsm3' de 'BSM' kısaltmasının farklı bir yazımı\n",
    "    \"gigmm\": \"Gemi İnşaatı ve Gemi Makineleri Mühendisliği\",\n",
    "    \"gemi i̇nşaatı\":\"Gemi İnşaatı ve Gemi Makineleri Mühendisliği\",\n",
    "    \"gemi i̇nşaat\":\"Gemi İnşaatı ve Gemi Makineleri Mühendisliği\",\n",
    "    \"gi̇gi̇m\":\"Gemi İnşaatı ve Gemi Makineleri Mühendisliği\",\n",
    "    \"eee\":   \"Elektrik-Elektronik Mühendisliği\",\n",
    "    \"ie\":    \"Endüstri Mühendisliği\"\n",
    "}\n",
    "data[\"Bölümün:\"] = data[\"Bölümün:\"].apply(lambda x: abbreviation_map.get(x, x))\n",
    "\n"
   ]
  },
  {
   "cell_type": "code",
   "execution_count": 2,
   "metadata": {},
   "outputs": [
    {
     "data": {
      "text/plain": [
       "array(['Bilişim Sistemleri Mühendisliği', 'Yönetim Bilişim Sistemleri',\n",
       "       'Bilgisayar Programcılığı', 'Denizcilik İşletmeleri Yönetimi',\n",
       "       'Endüstri Mühendisliği', 'Deniz Ulaştırma İşletme Mühendisliği',\n",
       "       'Gemi İnşaatı ve Gemi Makineleri Mühendisliği',\n",
       "       'Ekonomi ve Finans', 'Bilgisayar Mühendisliği',\n",
       "       'Elektrik-Elektronik Mühendisliği', 'Mekatronik Mühendisliği',\n",
       "       'Makine Mühendisliği', 'Lojistik Yönetimi',\n",
       "       'Gemi Makineleri İşletme Mühendisliği',\n",
       "       'Yat ve Marina İşletmeciliği',\n",
       "       'Uluslararası Ticaret ve İşletmecilik', 'Hukuk',\n",
       "       'Gemi Makineleri İşletmeciliği', 'Aşçılık',\n",
       "       'Deniz ve Liman İşletmeciliği', '', 'yücel', 'dmyo broker'],\n",
       "      dtype=object)"
      ]
     },
     "execution_count": 2,
     "metadata": {},
     "output_type": "execute_result"
    }
   ],
   "source": [
    "data[\"Bölümün:\"].unique()"
   ]
  },
  {
   "cell_type": "code",
   "execution_count": null,
   "metadata": {},
   "outputs": [],
   "source": []
  }
 ],
 "metadata": {
  "kernelspec": {
   "display_name": "Python 3",
   "language": "python",
   "name": "python3"
  },
  "language_info": {
   "codemirror_mode": {
    "name": "ipython",
    "version": 3
   },
   "file_extension": ".py",
   "mimetype": "text/x-python",
   "name": "python",
   "nbconvert_exporter": "python",
   "pygments_lexer": "ipython3",
   "version": "3.11.9"
  }
 },
 "nbformat": 4,
 "nbformat_minor": 2
}
